{
 "cells": [
  {
   "cell_type": "code",
   "execution_count": 883,
   "id": "e44abcf0-e958-451c-96a8-5eaa2d5f4795",
   "metadata": {},
   "outputs": [],
   "source": [
    "import numpy as np\n",
    "import pandas as pd\n",
    "import os\n",
    "import librosa, librosa.display\n",
    "import soundfile as sf\n",
    "import pandas as pd\n",
    "import numpy as np\n",
    "import matplotlib.pyplot as plt\n",
    "%matplotlib inline\n",
    "import IPython.display as ipd\n",
    "import seaborn as sns\n",
    "from scipy.io import wavfile\n",
    "from scipy.fft import fft, fftfreq\n",
    "from scipy.signal import spectrogram, find_peaks\n",
    "import glob\n",
    "\n",
    "import warnings\n",
    "warnings.filterwarnings('ignore')\n",
    "\n",
    "from sklearn.preprocessing import normalize"
   ]
  },
  {
   "cell_type": "markdown",
   "id": "13b05f5a-15e7-47c9-917a-7705d752561f",
   "metadata": {},
   "source": [
    "Details:\n",
    "- Sample rate: 16000 Hz.\n",
    "- Data type: 16-bit PCM (int16).\n",
    "- File size: Each example has a file size of 128 kB (5.53 GB for complete dataset).\n",
    "- Duration: 4 seconds.\n",
    "- Sound: Piano (digital).\n",
    "- Chords were played by a human on a velocity-sensitive piano keyboard.\n",
    "- 3 seconds pressed, 1 second released.\n",
    "\n",
    "- 3 octaves (2,3,4).\n",
    "- 12 base notes per octave: Cn, Df, Dn, Ef, En, Fn, Gf, Gn, Af, An, Bf, Bn. (n is natural, f is flat).\n",
    "- 4 triad types per note: major (j), minor (n), diminished (d), augmented (a). No inversions.\n",
    "- 3 volumes per triad: forte (f), metsoforte (m), piano (p)."
   ]
  },
  {
   "cell_type": "markdown",
   "id": "a45c5fc2-ad11-487a-b83f-957bfdc02259",
   "metadata": {},
   "source": [
    "## Obtain all the chord file names as a list"
   ]
  },
  {
   "cell_type": "code",
   "execution_count": 96,
   "id": "f16ddff1-7217-4040-8e87-1e09d6a18a14",
   "metadata": {},
   "outputs": [],
   "source": [
    "import os\n",
    "\n",
    "# folder path\n",
    "dir_path = r'./audio_augmented_x10'\n",
    "\n",
    "# list to store files\n",
    "chord_files = []\n",
    "\n",
    "# Iterate directory\n",
    "for path in os.listdir(dir_path):\n",
    "    # check if current path is a file\n",
    "    if os.path.isfile(os.path.join(dir_path, path)):\n",
    "        chord_files.append(path)"
   ]
  },
  {
   "cell_type": "code",
   "execution_count": 97,
   "id": "28376fef-f3be-4b92-9d00-a23e1b5fb13a",
   "metadata": {},
   "outputs": [
    {
     "name": "stdout",
     "output_type": "stream",
     "text": [
      "['piano_3_Af_a_m_45.wav', 'piano_4_Gn_j_f_13.wav', 'piano_2_Fn_d_m_63.wav', 'piano_2_Df_a_f_47.wav', 'piano_4_Fn_a_p_91.wav', 'piano_3_Cn_d_f_61.wav', 'piano_4_En_j_m_07.wav', 'piano_2_Dn_d_f_77.wav', 'piano_2_An_n_f_59.wav', 'piano_3_An_d_m_75.wav']\n"
     ]
    }
   ],
   "source": [
    "print(chord_files[:10])"
   ]
  },
  {
   "cell_type": "code",
   "execution_count": 893,
   "id": "e7942967-8623-4f6c-9f8a-856b8ecf22d5",
   "metadata": {},
   "outputs": [],
   "source": [
    "audio_data_files = glob.glob('./chords_clean/**/*.wav', recursive=True)"
   ]
  },
  {
   "cell_type": "code",
   "execution_count": 894,
   "id": "913b837f-d734-4a7a-ad17-4b32be29cd4c",
   "metadata": {},
   "outputs": [
    {
     "data": {
      "text/plain": [
       "129074"
      ]
     },
     "execution_count": 894,
     "metadata": {},
     "output_type": "execute_result"
    }
   ],
   "source": [
    "len(audio_data_files)"
   ]
  },
  {
   "cell_type": "markdown",
   "id": "78639dd8-2ed1-43bd-bc4f-94271d570e25",
   "metadata": {},
   "source": [
    "Test of splitting file name into data:"
   ]
  },
  {
   "cell_type": "code",
   "execution_count": 895,
   "id": "75e2bd65-698e-4daa-b9e5-ad439a5ef950",
   "metadata": {},
   "outputs": [
    {
     "data": {
      "text/plain": [
       "['.', 'chords_clean', 'Gn_minor', 'piano_4_Gn_n_m_81_2']"
      ]
     },
     "execution_count": 895,
     "metadata": {},
     "output_type": "execute_result"
    }
   ],
   "source": [
    "path = audio_data_files[0]\n",
    "path_parts = path[:-4].split('/')\n",
    "path_parts"
   ]
  },
  {
   "cell_type": "markdown",
   "id": "f1d6def2-ad61-4757-beb2-5ca1baadd381",
   "metadata": {},
   "source": [
    "## Import Cleaned Audio File"
   ]
  },
  {
   "cell_type": "markdown",
   "id": "bb19991a-bacd-4958-b1a2-c7219c4213ff",
   "metadata": {},
   "source": [
    "Cleaned means:\n",
    "- audio files shortened to 1 second\n",
    "- audio files without dead space "
   ]
  },
  {
   "cell_type": "code",
   "execution_count": 932,
   "id": "55ca2805-f679-47d5-a78a-46a75817bbba",
   "metadata": {},
   "outputs": [],
   "source": [
    "file_type = 'clean'"
   ]
  },
  {
   "cell_type": "code",
   "execution_count": 933,
   "id": "5e38e56d-6d1b-4bcf-9ea7-01f66d4dd75f",
   "metadata": {},
   "outputs": [],
   "source": [
    "file_paths = []\n",
    "file_name = []\n",
    "sound = []\n",
    "octave = []\n",
    "triad_type = []\n",
    "volume = []\n",
    "chord_idx = []\n",
    "base_note_name = []\n",
    "\n",
    "for path in audio_data_files:\n",
    "    path_parts = path[:-4].split('/')\n",
    "    file = path_parts[len(path_parts)-1]\n",
    "    \n",
    "    name_data = file[:-4].split('_')\n",
    "    \n",
    "    file_paths.append(path)\n",
    "    file_name.append(file)\n",
    "    sound.append(name_data[0])\n",
    "    octave.append(name_data[1])\n",
    "    triad_type.append(name_data[3])\n",
    "    volume.append(name_data[4])\n",
    "    chord_idx.append(name_data[5])\n",
    "    base_note_name.append(name_data[2])"
   ]
  },
  {
   "cell_type": "code",
   "execution_count": 934,
   "id": "eb4d7723-ec44-43b7-a1cd-1d8713d86a10",
   "metadata": {},
   "outputs": [],
   "source": [
    "df = pd.DataFrame(list(zip(file_paths,\n",
    "                           file_name, \n",
    "                            sound,\n",
    "                            octave,\n",
    "                            triad_type,\n",
    "                            volume,\n",
    "                            chord_idx,\n",
    "                            base_note_name)),\n",
    "               columns=['file_path', 'file_name', 'sound', 'octave', 'triad_type', 'volume', 'chord_idx', 'base_note_name'])"
   ]
  },
  {
   "cell_type": "code",
   "execution_count": 935,
   "id": "33defe84-c9a2-4eb2-bbb2-1304c57bf5b7",
   "metadata": {},
   "outputs": [
    {
     "data": {
      "text/html": [
       "<div>\n",
       "<style scoped>\n",
       "    .dataframe tbody tr th:only-of-type {\n",
       "        vertical-align: middle;\n",
       "    }\n",
       "\n",
       "    .dataframe tbody tr th {\n",
       "        vertical-align: top;\n",
       "    }\n",
       "\n",
       "    .dataframe thead th {\n",
       "        text-align: right;\n",
       "    }\n",
       "</style>\n",
       "<table border=\"1\" class=\"dataframe\">\n",
       "  <thead>\n",
       "    <tr style=\"text-align: right;\">\n",
       "      <th></th>\n",
       "      <th>file_path</th>\n",
       "      <th>file_name</th>\n",
       "      <th>sound</th>\n",
       "      <th>octave</th>\n",
       "      <th>triad_type</th>\n",
       "      <th>volume</th>\n",
       "      <th>chord_idx</th>\n",
       "      <th>base_note_name</th>\n",
       "    </tr>\n",
       "  </thead>\n",
       "  <tbody>\n",
       "    <tr>\n",
       "      <th>0</th>\n",
       "      <td>./chords_clean/Gn_minor/piano_4_Gn_n_m_81_2.wav</td>\n",
       "      <td>piano_4_Gn_n_m_81_2</td>\n",
       "      <td>piano</td>\n",
       "      <td>4</td>\n",
       "      <td>n</td>\n",
       "      <td>m</td>\n",
       "      <td></td>\n",
       "      <td>Gn</td>\n",
       "    </tr>\n",
       "    <tr>\n",
       "      <th>1</th>\n",
       "      <td>./chords_clean/Gn_minor/piano_3_Gn_n_m_47_0.wav</td>\n",
       "      <td>piano_3_Gn_n_m_47_0</td>\n",
       "      <td>piano</td>\n",
       "      <td>3</td>\n",
       "      <td>n</td>\n",
       "      <td>m</td>\n",
       "      <td></td>\n",
       "      <td>Gn</td>\n",
       "    </tr>\n",
       "    <tr>\n",
       "      <th>2</th>\n",
       "      <td>./chords_clean/Gn_minor/piano_3_Gn_n_m_02_0.wav</td>\n",
       "      <td>piano_3_Gn_n_m_02_0</td>\n",
       "      <td>piano</td>\n",
       "      <td>3</td>\n",
       "      <td>n</td>\n",
       "      <td>m</td>\n",
       "      <td></td>\n",
       "      <td>Gn</td>\n",
       "    </tr>\n",
       "    <tr>\n",
       "      <th>3</th>\n",
       "      <td>./chords_clean/Gn_minor/piano_2_Gn_n_p_28_0.wav</td>\n",
       "      <td>piano_2_Gn_n_p_28_0</td>\n",
       "      <td>piano</td>\n",
       "      <td>2</td>\n",
       "      <td>n</td>\n",
       "      <td>p</td>\n",
       "      <td></td>\n",
       "      <td>Gn</td>\n",
       "    </tr>\n",
       "    <tr>\n",
       "      <th>4</th>\n",
       "      <td>./chords_clean/Gn_minor/piano_3_Gn_n_f_19_0.wav</td>\n",
       "      <td>piano_3_Gn_n_f_19_0</td>\n",
       "      <td>piano</td>\n",
       "      <td>3</td>\n",
       "      <td>n</td>\n",
       "      <td>f</td>\n",
       "      <td></td>\n",
       "      <td>Gn</td>\n",
       "    </tr>\n",
       "  </tbody>\n",
       "</table>\n",
       "</div>"
      ],
      "text/plain": [
       "                                         file_path            file_name  \\\n",
       "0  ./chords_clean/Gn_minor/piano_4_Gn_n_m_81_2.wav  piano_4_Gn_n_m_81_2   \n",
       "1  ./chords_clean/Gn_minor/piano_3_Gn_n_m_47_0.wav  piano_3_Gn_n_m_47_0   \n",
       "2  ./chords_clean/Gn_minor/piano_3_Gn_n_m_02_0.wav  piano_3_Gn_n_m_02_0   \n",
       "3  ./chords_clean/Gn_minor/piano_2_Gn_n_p_28_0.wav  piano_2_Gn_n_p_28_0   \n",
       "4  ./chords_clean/Gn_minor/piano_3_Gn_n_f_19_0.wav  piano_3_Gn_n_f_19_0   \n",
       "\n",
       "   sound octave triad_type volume chord_idx base_note_name  \n",
       "0  piano      4          n      m                       Gn  \n",
       "1  piano      3          n      m                       Gn  \n",
       "2  piano      3          n      m                       Gn  \n",
       "3  piano      2          n      p                       Gn  \n",
       "4  piano      3          n      f                       Gn  "
      ]
     },
     "execution_count": 935,
     "metadata": {},
     "output_type": "execute_result"
    }
   ],
   "source": [
    "df.head()"
   ]
  },
  {
   "cell_type": "code",
   "execution_count": 941,
   "id": "3de1ad1a-5ff5-4436-810a-0e1aec9fdbad",
   "metadata": {},
   "outputs": [],
   "source": [
    "df2 = df[df['file_path'].str.endswith('0.wav')]"
   ]
  },
  {
   "cell_type": "code",
   "execution_count": 942,
   "id": "40bc5ab1-61c8-466e-a4eb-201a906d6302",
   "metadata": {},
   "outputs": [
    {
     "data": {
      "text/plain": [
       "(43200, 8)"
      ]
     },
     "execution_count": 942,
     "metadata": {},
     "output_type": "execute_result"
    }
   ],
   "source": [
    "df2.shape"
   ]
  },
  {
   "cell_type": "markdown",
   "id": "f2c8aca2-8f56-4a8f-a07f-8bf76a23eb72",
   "metadata": {},
   "source": [
    "## Uncleaned Audio File Import"
   ]
  },
  {
   "cell_type": "code",
   "execution_count": 925,
   "id": "6e6c1793-0c0c-4172-a997-3d3ac11f4b56",
   "metadata": {},
   "outputs": [
    {
     "data": {
      "text/plain": [
       "['piano', '2', 'Af', 'a', 'f', '00']"
      ]
     },
     "execution_count": 925,
     "metadata": {},
     "output_type": "execute_result"
    }
   ],
   "source": [
    "name = 'piano_2_Af_a_f_00.wav'\n",
    "name_data = name[:-4].split('_')\n",
    "name_data"
   ]
  },
  {
   "cell_type": "code",
   "execution_count": 926,
   "id": "abd08e7f-1cad-4574-8ec1-a72036e3c0ef",
   "metadata": {},
   "outputs": [],
   "source": [
    "file_name = []\n",
    "sound = []\n",
    "octave = []\n",
    "triad_type = []\n",
    "volume = []\n",
    "chord_idx = []\n",
    "base_note_name = []\n",
    "\n",
    "for file in chord_files:\n",
    "    name_data = file[:-4].split('_')\n",
    "    \n",
    "    file_name.append(file)\n",
    "    sound.append(name_data[0])\n",
    "    octave.append(name_data[1])\n",
    "    triad_type.append(name_data[3])\n",
    "    volume.append(name_data[4])\n",
    "    chord_idx.append(name_data[5])\n",
    "    base_note_name.append(name_data[2])"
   ]
  },
  {
   "cell_type": "code",
   "execution_count": 927,
   "id": "9a63fd80-bde8-4adf-82d0-5c0497ba7cf5",
   "metadata": {},
   "outputs": [],
   "source": [
    "df = pd.DataFrame(list(zip(file_name, \n",
    "                      sound,\n",
    "                      octave,\n",
    "                      triad_type,\n",
    "                      volume,\n",
    "                      chord_idx,\n",
    "                      base_note_name)),\n",
    "               columns=['file_name', 'sound', 'octave', 'triad_type', 'volume', 'chord_idx', 'base_note_name'])"
   ]
  },
  {
   "cell_type": "code",
   "execution_count": 928,
   "id": "8d0373f8-ecf3-418c-b646-2fe97c43b0b1",
   "metadata": {},
   "outputs": [
    {
     "data": {
      "text/html": [
       "<div>\n",
       "<style scoped>\n",
       "    .dataframe tbody tr th:only-of-type {\n",
       "        vertical-align: middle;\n",
       "    }\n",
       "\n",
       "    .dataframe tbody tr th {\n",
       "        vertical-align: top;\n",
       "    }\n",
       "\n",
       "    .dataframe thead th {\n",
       "        text-align: right;\n",
       "    }\n",
       "</style>\n",
       "<table border=\"1\" class=\"dataframe\">\n",
       "  <thead>\n",
       "    <tr style=\"text-align: right;\">\n",
       "      <th></th>\n",
       "      <th>file_name</th>\n",
       "      <th>sound</th>\n",
       "      <th>octave</th>\n",
       "      <th>triad_type</th>\n",
       "      <th>volume</th>\n",
       "      <th>chord_idx</th>\n",
       "      <th>base_note_name</th>\n",
       "    </tr>\n",
       "  </thead>\n",
       "  <tbody>\n",
       "    <tr>\n",
       "      <th>0</th>\n",
       "      <td>piano_3_Af_a_m_45.wav</td>\n",
       "      <td>piano</td>\n",
       "      <td>3</td>\n",
       "      <td>a</td>\n",
       "      <td>m</td>\n",
       "      <td>45</td>\n",
       "      <td>Af</td>\n",
       "    </tr>\n",
       "    <tr>\n",
       "      <th>1</th>\n",
       "      <td>piano_4_Gn_j_f_13.wav</td>\n",
       "      <td>piano</td>\n",
       "      <td>4</td>\n",
       "      <td>j</td>\n",
       "      <td>f</td>\n",
       "      <td>13</td>\n",
       "      <td>Gn</td>\n",
       "    </tr>\n",
       "    <tr>\n",
       "      <th>2</th>\n",
       "      <td>piano_2_Fn_d_m_63.wav</td>\n",
       "      <td>piano</td>\n",
       "      <td>2</td>\n",
       "      <td>d</td>\n",
       "      <td>m</td>\n",
       "      <td>63</td>\n",
       "      <td>Fn</td>\n",
       "    </tr>\n",
       "    <tr>\n",
       "      <th>3</th>\n",
       "      <td>piano_2_Df_a_f_47.wav</td>\n",
       "      <td>piano</td>\n",
       "      <td>2</td>\n",
       "      <td>a</td>\n",
       "      <td>f</td>\n",
       "      <td>47</td>\n",
       "      <td>Df</td>\n",
       "    </tr>\n",
       "    <tr>\n",
       "      <th>4</th>\n",
       "      <td>piano_4_Fn_a_p_91.wav</td>\n",
       "      <td>piano</td>\n",
       "      <td>4</td>\n",
       "      <td>a</td>\n",
       "      <td>p</td>\n",
       "      <td>91</td>\n",
       "      <td>Fn</td>\n",
       "    </tr>\n",
       "  </tbody>\n",
       "</table>\n",
       "</div>"
      ],
      "text/plain": [
       "               file_name  sound octave triad_type volume chord_idx  \\\n",
       "0  piano_3_Af_a_m_45.wav  piano      3          a      m        45   \n",
       "1  piano_4_Gn_j_f_13.wav  piano      4          j      f        13   \n",
       "2  piano_2_Fn_d_m_63.wav  piano      2          d      m        63   \n",
       "3  piano_2_Df_a_f_47.wav  piano      2          a      f        47   \n",
       "4  piano_4_Fn_a_p_91.wav  piano      4          a      p        91   \n",
       "\n",
       "  base_note_name  \n",
       "0             Af  \n",
       "1             Gn  \n",
       "2             Fn  \n",
       "3             Df  \n",
       "4             Fn  "
      ]
     },
     "execution_count": 928,
     "metadata": {},
     "output_type": "execute_result"
    }
   ],
   "source": [
    "df.head()"
   ]
  },
  {
   "cell_type": "code",
   "execution_count": 929,
   "id": "40c240a7-f9e8-4636-9dfd-3258955fe1ec",
   "metadata": {},
   "outputs": [
    {
     "data": {
      "text/plain": [
       "(43200, 7)"
      ]
     },
     "execution_count": 929,
     "metadata": {},
     "output_type": "execute_result"
    }
   ],
   "source": [
    "df.shape"
   ]
  },
  {
   "cell_type": "code",
   "execution_count": 900,
   "id": "bc6293bf-fc89-437b-a42c-47c7b8a63bbe",
   "metadata": {},
   "outputs": [],
   "source": [
    "# Applying the condition\n",
    "df['triad_type'].mask(df['triad_type'] == 'j', 'major', inplace=True)\n",
    "df['triad_type'].mask(df['triad_type'] == 'n', 'minor', inplace=True)\n",
    "df['triad_type'].mask(df['triad_type'] == 'd', 'dim', inplace=True)\n",
    "df['triad_type'].mask(df['triad_type'] == 'a', 'aug', inplace=True)\n",
    "\n",
    "df['volume'].mask(df['volume'] == 'f', 'forte', inplace=True)\n",
    "df['volume'].mask(df['volume'] == 'm', 'mezzoforte', inplace=True)\n",
    "df['volume'].mask(df['volume'] == 'p', 'piano', inplace=True)"
   ]
  },
  {
   "cell_type": "code",
   "execution_count": 901,
   "id": "6fc80c31-8e20-461c-839d-c0ba1562f8f9",
   "metadata": {},
   "outputs": [
    {
     "data": {
      "text/html": [
       "<div>\n",
       "<style scoped>\n",
       "    .dataframe tbody tr th:only-of-type {\n",
       "        vertical-align: middle;\n",
       "    }\n",
       "\n",
       "    .dataframe tbody tr th {\n",
       "        vertical-align: top;\n",
       "    }\n",
       "\n",
       "    .dataframe thead th {\n",
       "        text-align: right;\n",
       "    }\n",
       "</style>\n",
       "<table border=\"1\" class=\"dataframe\">\n",
       "  <thead>\n",
       "    <tr style=\"text-align: right;\">\n",
       "      <th></th>\n",
       "      <th>file_path</th>\n",
       "      <th>file_name</th>\n",
       "      <th>sound</th>\n",
       "      <th>octave</th>\n",
       "      <th>triad_type</th>\n",
       "      <th>volume</th>\n",
       "      <th>chord_idx</th>\n",
       "      <th>base_note_name</th>\n",
       "    </tr>\n",
       "  </thead>\n",
       "  <tbody>\n",
       "    <tr>\n",
       "      <th>0</th>\n",
       "      <td>./chords_clean/Gn_minor/piano_4_Gn_n_m_81_2.wav</td>\n",
       "      <td>piano_4_Gn_n_m_81_2</td>\n",
       "      <td>piano</td>\n",
       "      <td>4</td>\n",
       "      <td>minor</td>\n",
       "      <td>mezzoforte</td>\n",
       "      <td></td>\n",
       "      <td>Gn</td>\n",
       "    </tr>\n",
       "    <tr>\n",
       "      <th>1</th>\n",
       "      <td>./chords_clean/Gn_minor/piano_3_Gn_n_m_47_0.wav</td>\n",
       "      <td>piano_3_Gn_n_m_47_0</td>\n",
       "      <td>piano</td>\n",
       "      <td>3</td>\n",
       "      <td>minor</td>\n",
       "      <td>mezzoforte</td>\n",
       "      <td></td>\n",
       "      <td>Gn</td>\n",
       "    </tr>\n",
       "    <tr>\n",
       "      <th>2</th>\n",
       "      <td>./chords_clean/Gn_minor/piano_3_Gn_n_m_02_0.wav</td>\n",
       "      <td>piano_3_Gn_n_m_02_0</td>\n",
       "      <td>piano</td>\n",
       "      <td>3</td>\n",
       "      <td>minor</td>\n",
       "      <td>mezzoforte</td>\n",
       "      <td></td>\n",
       "      <td>Gn</td>\n",
       "    </tr>\n",
       "    <tr>\n",
       "      <th>3</th>\n",
       "      <td>./chords_clean/Gn_minor/piano_2_Gn_n_p_28_0.wav</td>\n",
       "      <td>piano_2_Gn_n_p_28_0</td>\n",
       "      <td>piano</td>\n",
       "      <td>2</td>\n",
       "      <td>minor</td>\n",
       "      <td>piano</td>\n",
       "      <td></td>\n",
       "      <td>Gn</td>\n",
       "    </tr>\n",
       "    <tr>\n",
       "      <th>4</th>\n",
       "      <td>./chords_clean/Gn_minor/piano_3_Gn_n_f_19_0.wav</td>\n",
       "      <td>piano_3_Gn_n_f_19_0</td>\n",
       "      <td>piano</td>\n",
       "      <td>3</td>\n",
       "      <td>minor</td>\n",
       "      <td>forte</td>\n",
       "      <td></td>\n",
       "      <td>Gn</td>\n",
       "    </tr>\n",
       "    <tr>\n",
       "      <th>5</th>\n",
       "      <td>./chords_clean/Gn_minor/piano_4_Gn_n_p_48_0.wav</td>\n",
       "      <td>piano_4_Gn_n_p_48_0</td>\n",
       "      <td>piano</td>\n",
       "      <td>4</td>\n",
       "      <td>minor</td>\n",
       "      <td>piano</td>\n",
       "      <td></td>\n",
       "      <td>Gn</td>\n",
       "    </tr>\n",
       "    <tr>\n",
       "      <th>6</th>\n",
       "      <td>./chords_clean/Gn_minor/piano_2_Gn_n_m_82_1.wav</td>\n",
       "      <td>piano_2_Gn_n_m_82_1</td>\n",
       "      <td>piano</td>\n",
       "      <td>2</td>\n",
       "      <td>minor</td>\n",
       "      <td>mezzoforte</td>\n",
       "      <td></td>\n",
       "      <td>Gn</td>\n",
       "    </tr>\n",
       "    <tr>\n",
       "      <th>7</th>\n",
       "      <td>./chords_clean/Gn_minor/piano_2_Gn_n_f_99_1.wav</td>\n",
       "      <td>piano_2_Gn_n_f_99_1</td>\n",
       "      <td>piano</td>\n",
       "      <td>2</td>\n",
       "      <td>minor</td>\n",
       "      <td>forte</td>\n",
       "      <td></td>\n",
       "      <td>Gn</td>\n",
       "    </tr>\n",
       "    <tr>\n",
       "      <th>8</th>\n",
       "      <td>./chords_clean/Gn_minor/piano_2_Gn_n_f_21_1.wav</td>\n",
       "      <td>piano_2_Gn_n_f_21_1</td>\n",
       "      <td>piano</td>\n",
       "      <td>2</td>\n",
       "      <td>minor</td>\n",
       "      <td>forte</td>\n",
       "      <td></td>\n",
       "      <td>Gn</td>\n",
       "    </tr>\n",
       "    <tr>\n",
       "      <th>9</th>\n",
       "      <td>./chords_clean/Gn_minor/piano_3_Gn_n_p_10_1.wav</td>\n",
       "      <td>piano_3_Gn_n_p_10_1</td>\n",
       "      <td>piano</td>\n",
       "      <td>3</td>\n",
       "      <td>minor</td>\n",
       "      <td>piano</td>\n",
       "      <td></td>\n",
       "      <td>Gn</td>\n",
       "    </tr>\n",
       "  </tbody>\n",
       "</table>\n",
       "</div>"
      ],
      "text/plain": [
       "                                         file_path            file_name  \\\n",
       "0  ./chords_clean/Gn_minor/piano_4_Gn_n_m_81_2.wav  piano_4_Gn_n_m_81_2   \n",
       "1  ./chords_clean/Gn_minor/piano_3_Gn_n_m_47_0.wav  piano_3_Gn_n_m_47_0   \n",
       "2  ./chords_clean/Gn_minor/piano_3_Gn_n_m_02_0.wav  piano_3_Gn_n_m_02_0   \n",
       "3  ./chords_clean/Gn_minor/piano_2_Gn_n_p_28_0.wav  piano_2_Gn_n_p_28_0   \n",
       "4  ./chords_clean/Gn_minor/piano_3_Gn_n_f_19_0.wav  piano_3_Gn_n_f_19_0   \n",
       "5  ./chords_clean/Gn_minor/piano_4_Gn_n_p_48_0.wav  piano_4_Gn_n_p_48_0   \n",
       "6  ./chords_clean/Gn_minor/piano_2_Gn_n_m_82_1.wav  piano_2_Gn_n_m_82_1   \n",
       "7  ./chords_clean/Gn_minor/piano_2_Gn_n_f_99_1.wav  piano_2_Gn_n_f_99_1   \n",
       "8  ./chords_clean/Gn_minor/piano_2_Gn_n_f_21_1.wav  piano_2_Gn_n_f_21_1   \n",
       "9  ./chords_clean/Gn_minor/piano_3_Gn_n_p_10_1.wav  piano_3_Gn_n_p_10_1   \n",
       "\n",
       "   sound octave triad_type      volume chord_idx base_note_name  \n",
       "0  piano      4      minor  mezzoforte                       Gn  \n",
       "1  piano      3      minor  mezzoforte                       Gn  \n",
       "2  piano      3      minor  mezzoforte                       Gn  \n",
       "3  piano      2      minor       piano                       Gn  \n",
       "4  piano      3      minor       forte                       Gn  \n",
       "5  piano      4      minor       piano                       Gn  \n",
       "6  piano      2      minor  mezzoforte                       Gn  \n",
       "7  piano      2      minor       forte                       Gn  \n",
       "8  piano      2      minor       forte                       Gn  \n",
       "9  piano      3      minor       piano                       Gn  "
      ]
     },
     "execution_count": 901,
     "metadata": {},
     "output_type": "execute_result"
    }
   ],
   "source": [
    "df.head(10)"
   ]
  },
  {
   "cell_type": "markdown",
   "id": "60dc7cf8-0f6d-451e-95b3-92d94fa3d647",
   "metadata": {},
   "source": [
    "## Chord Data EDA"
   ]
  },
  {
   "cell_type": "markdown",
   "id": "e5729d9e-3c0a-4104-9013-568bb51aa043",
   "metadata": {},
   "source": [
    "Look at the count of each chord within the dataset "
   ]
  },
  {
   "cell_type": "code",
   "execution_count": 943,
   "id": "cbb9faeb-e303-42b1-b5c7-4a614892b7c0",
   "metadata": {},
   "outputs": [
    {
     "data": {
      "image/png": "[encoded data removed]",
      "text/plain": [
       "<Figure size 640x480 with 1 Axes>"
      ]
     },
     "metadata": {},
     "output_type": "display_data"
    }
   ],
   "source": [
    "sns.countplot(x=df['base_note_name'])\n",
    "plt.xlabel('Chord')\n",
    "plt.savefig('Chord Distribution.png')"
   ]
  },
  {
   "cell_type": "markdown",
   "id": "d381903e-b95e-41af-b3ef-86635232c86c",
   "metadata": {},
   "source": [
    "The datasets between the each base notes is very evenly distributed. This is because the dataset was generated with evenness in mind."
   ]
  },
  {
   "cell_type": "code",
   "execution_count": 1157,
   "id": "5ce1ffaa-2e9d-403c-94e5-6724738b6ac0",
   "metadata": {},
   "outputs": [],
   "source": [
    "if file_type == 'clean':\n",
    "    chord_file = df['file_path'][0]\n",
    "else:\n",
    "    chord_file = dir_path + \"/\" + df['file_name'][16]"
   ]
  },
  {
   "cell_type": "code",
   "execution_count": 1158,
   "id": "8da63b5e-11b3-4184-aaf2-98b8857a3aab",
   "metadata": {},
   "outputs": [
    {
     "name": "stdout",
     "output_type": "stream",
     "text": [
      "Y is a numpy array: [-0.006433   -0.00211971  0.00589119 ... -0.00925536 -0.01127478\n",
      " -0.00738383]\n",
      "Shape of Y: (22050,)\n",
      "Sample Rate: 22050\n"
     ]
    }
   ],
   "source": [
    "# load the audio file and show raw data and sample rate\n",
    "y, sr = librosa.load(chord_file)\n",
    "print(\"Y is a numpy array:\", y)\n",
    "print(\"Shape of Y:\", y.shape)\n",
    "print(\"Sample Rate:\", sr)"
   ]
  },
  {
   "cell_type": "code",
   "execution_count": 1159,
   "id": "ea5eaae6-9da3-4adf-83e2-793a19dc08e9",
   "metadata": {},
   "outputs": [
    {
     "data": {
      "text/html": [
       "\n",
       "                <audio  controls=\"controls\" >\n",
       "                    <source src=\"data:audio/x-wav;base64,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\" type=\"audio/x-wav\" />\n",
       "                    Your browser does not support the audio element.\n",
       "                </audio>\n",
       "              "
      ],
      "text/plain": [
       "<IPython.lib.display.Audio object>"
      ]
     },
     "execution_count": 1159,
     "metadata": {},
     "output_type": "execute_result"
    }
   ],
   "source": [
    "# Play the first Audio file\n",
    "ipd.Audio(chord_file)"
   ]
  },
  {
   "cell_type": "code",
   "execution_count": 1160,
   "id": "561a15fe-64ae-4fd7-a902-59d8ec023878",
   "metadata": {},
   "outputs": [
    {
     "name": "stdout",
     "output_type": "stream",
     "text": [
      "./chords_clean/Gn_minor/piano_4_Gn_n_m_81_2.wav\n"
     ]
    }
   ],
   "source": [
    "print(chord_file)"
   ]
  },
  {
   "cell_type": "code",
   "execution_count": 1164,
   "id": "bb124571-2198-40c7-94c6-c677833c659c",
   "metadata": {},
   "outputs": [
    {
     "data": {
      "text/plain": [
       "Text(0.5, 0, 'Time')"
      ]
     },
     "execution_count": 1164,
     "metadata": {},
     "output_type": "execute_result"
    },
    {
     "data": {
      "image/png": "[encoded data removed]",
      "text/plain": [
       "<Figure size 1000x500 with 1 Axes>"
      ]
     },
     "metadata": {},
     "output_type": "display_data"
    }
   ],
   "source": [
    "# turn raw data array to pd series and plot the audio example\n",
    "pd.Series(y).plot(figsize=(10,5), title=\"Raw Audio Example Shortened and Sampled to 1s\", color='blue');\n",
    "plt.xlabel('Time')"
   ]
  },
  {
   "cell_type": "code",
   "execution_count": 1194,
   "id": "bf44e480-8c15-494a-928f-544d31213347",
   "metadata": {},
   "outputs": [
    {
     "name": "stdout",
     "output_type": "stream",
     "text": [
      "piano_4_Gn_n_m_81_2\n"
     ]
    },
    {
     "data": {
      "text/plain": [
       "Text(0.5, 0, 'Time [0.0000625 timestep]')"
      ]
     },
     "execution_count": 1194,
     "metadata": {},
     "output_type": "execute_result"
    },
    {
     "data": {
      "image/png": "[encoded data removed]",
      "text/plain": [
       "<Figure size 1000x500 with 1 Axes>"
      ]
     },
     "metadata": {},
     "output_type": "display_data"
    }
   ],
   "source": [
    "chord_file = './audio_augmented_x10/piano_4_An_n_m_02.wav'\n",
    "y, sr = librosa.load(chord_file)\n",
    "pd.Series(y).plot(figsize=(10,5), title=\"Raw Audio Example Full\", color='blue');\n",
    "print(df['file_name'][0])\n",
    "\n",
    "# time step is 1/f which in our case is 1/16000 [Hz] = 0.0000625 [s]\n",
    "plt.xlabel('Time [0.0000625 timestep]')"
   ]
  },
  {
   "cell_type": "code",
   "execution_count": 948,
   "id": "072157ce-dc19-41a1-93f9-0a9dc75c3ade",
   "metadata": {},
   "outputs": [
    {
     "data": {
      "image/png": "[encoded data removed]",
      "text/plain": [
       "<Figure size 1200x700 with 4 Axes>"
      ]
     },
     "metadata": {},
     "output_type": "display_data"
    }
   ],
   "source": [
    "# fs, signal = wavfile.read(dir_path + \"/\" + df['file_name'][0])\n",
    "signal, fs = librosa.load(chord_file)\n",
    "N = len(signal)\n",
    "time = np.linspace(0., N/fs, N)\n",
    "\n",
    "# Fourier Transform\n",
    "y_freq = fftfreq(N, 1/fs)[:N//2]  # array for frequency stamps\n",
    "signal_f = fft(signal) # Signal in frequency domain\n",
    "signal_f_onesided = 2.0/N * np.abs(signal_f[0:N//2]) # taking positive terms\n",
    "\n",
    "# Plotting signal in time and frequency domains\n",
    "fig, axes = plt.subplots(2, 2, figsize=(12, 7))\n",
    "axes[0,0].plot(time, signal)\n",
    "axes[0,0].set_title(\"Sound Wave in Time Domain (No Zoom)\")\n",
    "axes[0,0].set(xlabel='Time [sec]')\n",
    "axes[0,1].plot(y_freq, signal_f_onesided)\n",
    "axes[0,1].set_title(\"Sound Wave in Frequency Domain (No Zoom)\")\n",
    "axes[0,1].set(xlabel='Frequency [Hz]')\n",
    "axes[1,0].plot(time[(N//2):(N//2+480)], signal[(N//2):(N//2+480)])\n",
    "axes[1,0].set_title(\"Sound Wave in Time Domain (Zoomed)\")\n",
    "axes[1,0].set(xlabel='Time [sec]')\n",
    "axes[1,1].plot(y_freq[:5000], signal_f_onesided[:5000])\n",
    "axes[1,1].set_title(\"Sound Wave in Frequency Domain (Zoomed)\")\n",
    "axes[1,1].set(xlabel='Frequency [Hz]')\n",
    "fig.tight_layout()\n",
    "plt.show()"
   ]
  },
  {
   "cell_type": "code",
   "execution_count": 949,
   "id": "c3495ead-b466-441b-baf1-3482d1b6386a",
   "metadata": {},
   "outputs": [
    {
     "name": "stdout",
     "output_type": "stream",
     "text": [
      "New shape of transformed data (1025, 44)\n"
     ]
    }
   ],
   "source": [
    "# Use STFT on raw audio data\n",
    "D = librosa.stft(signal)\n",
    "# convert from aplitude to decibel values by taking the absolute value of D in reference what the max value would be\n",
    "S_db = librosa.amplitude_to_db(np.abs(D), ref=np.max)\n",
    "# see the shape of transformed data\n",
    "print(\"New shape of transformed data\", S_db.shape)"
   ]
  },
  {
   "cell_type": "code",
   "execution_count": 1168,
   "id": "3f8ad670-79cf-4304-adcb-6a7526470d01",
   "metadata": {},
   "outputs": [
    {
     "data": {
      "image/png": "[encoded data removed]",
      "text/plain": [
       "<Figure size 1000x500 with 2 Axes>"
      ]
     },
     "metadata": {},
     "output_type": "display_data"
    }
   ],
   "source": [
    "# plot transformed data as spectogram\n",
    "fig, ax = plt.subplots(figsize=(10,5))\n",
    "img = librosa.display.specshow(S_db, x_axis='time', y_axis='log', ax=ax)\n",
    "ax.set_title('Spectrogram Example', fontsize=20)\n",
    "fig.colorbar(img, ax=ax, format=f'%0.2f');"
   ]
  },
  {
   "cell_type": "code",
   "execution_count": 1169,
   "id": "167049c0-d3fd-4dcc-b5b2-2dbe070c3950",
   "metadata": {},
   "outputs": [
    {
     "name": "stdout",
     "output_type": "stream",
     "text": [
      "Shape of Mel Spectogram (256, 173)\n"
     ]
    }
   ],
   "source": [
    "# apply mel spectogram without STFT\n",
    "S = librosa.feature.melspectrogram(y, sr=sr, n_mels=128*2)\n",
    "print(\"Shape of Mel Spectogram\", S.shape)\n",
    "# use that converting function as above\n",
    "S_db_mel = librosa.amplitude_to_db(S, ref=np.max)"
   ]
  },
  {
   "cell_type": "markdown",
   "id": "60a17667-a99d-4db7-8336-c4bcba2e52f4",
   "metadata": {},
   "source": [
    "## Mel Spectrogram"
   ]
  },
  {
   "cell_type": "markdown",
   "id": "6eb6d96f-862d-4174-bb9a-5e1afac10436",
   "metadata": {},
   "source": [
    "A mel spectrogram is a spectrogram in which the frequency axis is represented in units of mel, which is a non-linear scale of frequency that is closer to how humans perceive sound. Mel spectrograms are commonly used in speech and music processing, as they can provide more information that is relevant to human perception."
   ]
  },
  {
   "cell_type": "code",
   "execution_count": 1171,
   "id": "8d6acf11-2717-4265-922c-a62673dc3c09",
   "metadata": {},
   "outputs": [
    {
     "data": {
      "image/png": "[encoded data removed]",
      "text/plain": [
       "<Figure size 1000x500 with 2 Axes>"
      ]
     },
     "metadata": {},
     "output_type": "display_data"
    }
   ],
   "source": [
    "# plot the mel spectogram\n",
    "fig, ax = plt.subplots(figsize=(10,5))\n",
    "img = librosa.display.specshow(S_db_mel, x_axis='time', y_axis='log', ax=ax)\n",
    "ax.set_title('Mel Spectrogram Example', fontsize=20)\n",
    "fig.colorbar(img, ax=ax, format=f'%0.2f');"
   ]
  },
  {
   "cell_type": "markdown",
   "id": "e01a56bc-2cc8-4e5d-ab84-44e3a2a09aea",
   "metadata": {},
   "source": [
    "## Chromagram"
   ]
  },
  {
   "cell_type": "markdown",
   "id": "a6179bc6-8beb-4a1b-bcc5-8807978da606",
   "metadata": {},
   "source": [
    "- A chromagram is a type of visual representation of musical data in which the vertical axis represents different musical pitches, and the horizontal axis represents time. \n",
    "\n",
    "- Each pitch is represented by a specific color, and the intensity of the color corresponds to the strength or amplitude of that pitch in the music at a given time. \n",
    "\n",
    "- Chromagrams can be used to analyze and study the harmonic structure of a piece of music.\n",
    "\n",
    "- Assuming the equal-tempered scale, one considers twelve chroma values represented by the set\n",
    "{C, C♯, D, D♯, E , F, F♯, G, G♯, A, A♯, B}\n",
    "\n",
    "- Enumerating the chroma values, one can identify the set of chroma values with the set of integers {1,2,...,12}, where 1 refers to chroma C, 2 to C♯, and so on."
   ]
  },
  {
   "cell_type": "code",
   "execution_count": 953,
   "id": "9f6b4eb1-e18b-463d-a1bb-b4ad9bc9d40d",
   "metadata": {},
   "outputs": [],
   "source": [
    "S = np.abs(librosa.stft(signal))\n",
    "chroma = librosa.feature.chroma_stft(S=S, sr=sr)"
   ]
  },
  {
   "cell_type": "code",
   "execution_count": 1195,
   "id": "75c23841-f798-46c4-8358-423637b33efa",
   "metadata": {},
   "outputs": [
    {
     "data": {
      "image/png": "[encoded data removed]",
      "text/plain": [
       "<Figure size 1000x500 with 2 Axes>"
      ]
     },
     "metadata": {},
     "output_type": "display_data"
    }
   ],
   "source": [
    "plt.figure(figsize=(10, 5))\n",
    "librosa.display.specshow(chroma, y_axis='chroma', x_axis='time')\n",
    "plt.colorbar()\n",
    "plt.title('Chromagram')\n",
    "plt.tight_layout()"
   ]
  },
  {
   "cell_type": "code",
   "execution_count": 955,
   "id": "d3f9a28c-1adc-4adb-bf5d-d127c1304c1e",
   "metadata": {},
   "outputs": [],
   "source": [
    "chroma_avg = np.average(chroma, axis=1)"
   ]
  },
  {
   "cell_type": "code",
   "execution_count": 956,
   "id": "862802fb-d0aa-4071-80dc-7ed158a91a0b",
   "metadata": {},
   "outputs": [
    {
     "data": {
      "text/plain": [
       "array([0.03078148, 0.2401208 , 0.996146  , 0.24021493, 0.0293121 ,\n",
       "       0.02738016, 0.05654227, 0.13196672, 0.0569238 , 0.21222936,\n",
       "       0.7193248 , 0.18883921], dtype=float32)"
      ]
     },
     "execution_count": 956,
     "metadata": {},
     "output_type": "execute_result"
    }
   ],
   "source": [
    "chroma_avg"
   ]
  },
  {
   "cell_type": "code",
   "execution_count": 957,
   "id": "537c7164-dd83-42a3-a0ef-7c425c32f1ba",
   "metadata": {},
   "outputs": [],
   "source": [
    "chroma_cols = ['chroma_C', \n",
    "               'chroma_C#', \n",
    "               'chroma_D', \n",
    "               'chroma_D#', \n",
    "               'chroma_E', \n",
    "               'chroma_F',\n",
    "               'chroma_F#',\n",
    "               'chroma_G',\n",
    "               'chroma_G#',\n",
    "               'chroma_A',\n",
    "               'chroma_A#',\n",
    "               'chroma_B']\n",
    "\n",
    "df_chroma = pd.DataFrame([np.average(chroma, axis=1)], columns=chroma_cols)"
   ]
  },
  {
   "cell_type": "code",
   "execution_count": 1173,
   "id": "3430e4eb-3844-4038-9f92-32a7a4acf945",
   "metadata": {},
   "outputs": [
    {
     "data": {
      "text/html": [
       "<div>\n",
       "<style scoped>\n",
       "    .dataframe tbody tr th:only-of-type {\n",
       "        vertical-align: middle;\n",
       "    }\n",
       "\n",
       "    .dataframe tbody tr th {\n",
       "        vertical-align: top;\n",
       "    }\n",
       "\n",
       "    .dataframe thead th {\n",
       "        text-align: right;\n",
       "    }\n",
       "</style>\n",
       "<table border=\"1\" class=\"dataframe\">\n",
       "  <thead>\n",
       "    <tr style=\"text-align: right;\">\n",
       "      <th></th>\n",
       "      <th>chroma_C</th>\n",
       "      <th>chroma_C#</th>\n",
       "      <th>chroma_D</th>\n",
       "      <th>chroma_D#</th>\n",
       "      <th>chroma_E</th>\n",
       "      <th>chroma_F</th>\n",
       "      <th>chroma_F#</th>\n",
       "      <th>chroma_G</th>\n",
       "      <th>chroma_G#</th>\n",
       "      <th>chroma_A</th>\n",
       "      <th>chroma_A#</th>\n",
       "      <th>chroma_B</th>\n",
       "    </tr>\n",
       "  </thead>\n",
       "  <tbody>\n",
       "    <tr>\n",
       "      <th>0</th>\n",
       "      <td>0.931724</td>\n",
       "      <td>0.774541</td>\n",
       "      <td>0.672795</td>\n",
       "      <td>0.70271</td>\n",
       "      <td>0.77877</td>\n",
       "      <td>0.579608</td>\n",
       "      <td>0.55304</td>\n",
       "      <td>0.709505</td>\n",
       "      <td>0.661061</td>\n",
       "      <td>0.603272</td>\n",
       "      <td>0.610947</td>\n",
       "      <td>0.742109</td>\n",
       "    </tr>\n",
       "  </tbody>\n",
       "</table>\n",
       "</div>"
      ],
      "text/plain": [
       "   chroma_C  chroma_C#  chroma_D  chroma_D#  chroma_E  chroma_F  chroma_F#  \\\n",
       "0  0.931724   0.774541  0.672795    0.70271   0.77877  0.579608    0.55304   \n",
       "\n",
       "   chroma_G  chroma_G#  chroma_A  chroma_A#  chroma_B  \n",
       "0  0.709505   0.661061  0.603272   0.610947  0.742109  "
      ]
     },
     "execution_count": 1173,
     "metadata": {},
     "output_type": "execute_result"
    }
   ],
   "source": [
    "# currently for 1 example file, will get chroma for each audio file next \n",
    "df_chroma"
   ]
  },
  {
   "cell_type": "markdown",
   "id": "fcce26f2-d957-4df9-9a14-f4f59876766b",
   "metadata": {},
   "source": [
    "Create Chromagram for each Audio File and save it to a pandas DataFrame"
   ]
  },
  {
   "cell_type": "code",
   "execution_count": 1172,
   "id": "453c1665-aae3-4964-bf6d-cb271196ec1c",
   "metadata": {},
   "outputs": [
    {
     "data": {
      "text/html": [
       "<div>\n",
       "<style scoped>\n",
       "    .dataframe tbody tr th:only-of-type {\n",
       "        vertical-align: middle;\n",
       "    }\n",
       "\n",
       "    .dataframe tbody tr th {\n",
       "        vertical-align: top;\n",
       "    }\n",
       "\n",
       "    .dataframe thead th {\n",
       "        text-align: right;\n",
       "    }\n",
       "</style>\n",
       "<table border=\"1\" class=\"dataframe\">\n",
       "  <thead>\n",
       "    <tr style=\"text-align: right;\">\n",
       "      <th></th>\n",
       "      <th>file_path</th>\n",
       "      <th>file_name</th>\n",
       "      <th>sound</th>\n",
       "      <th>octave</th>\n",
       "      <th>triad_type</th>\n",
       "      <th>volume</th>\n",
       "      <th>chord_idx</th>\n",
       "      <th>base_note_name</th>\n",
       "    </tr>\n",
       "  </thead>\n",
       "  <tbody>\n",
       "    <tr>\n",
       "      <th>0</th>\n",
       "      <td>./chords_clean/Gn_minor/piano_4_Gn_n_m_81_2.wav</td>\n",
       "      <td>piano_4_Gn_n_m_81_2</td>\n",
       "      <td>piano</td>\n",
       "      <td>4</td>\n",
       "      <td>n</td>\n",
       "      <td>m</td>\n",
       "      <td></td>\n",
       "      <td>Gn</td>\n",
       "    </tr>\n",
       "    <tr>\n",
       "      <th>1</th>\n",
       "      <td>./chords_clean/Gn_minor/piano_3_Gn_n_m_47_0.wav</td>\n",
       "      <td>piano_3_Gn_n_m_47_0</td>\n",
       "      <td>piano</td>\n",
       "      <td>3</td>\n",
       "      <td>n</td>\n",
       "      <td>m</td>\n",
       "      <td></td>\n",
       "      <td>Gn</td>\n",
       "    </tr>\n",
       "    <tr>\n",
       "      <th>2</th>\n",
       "      <td>./chords_clean/Gn_minor/piano_3_Gn_n_m_02_0.wav</td>\n",
       "      <td>piano_3_Gn_n_m_02_0</td>\n",
       "      <td>piano</td>\n",
       "      <td>3</td>\n",
       "      <td>n</td>\n",
       "      <td>m</td>\n",
       "      <td></td>\n",
       "      <td>Gn</td>\n",
       "    </tr>\n",
       "    <tr>\n",
       "      <th>3</th>\n",
       "      <td>./chords_clean/Gn_minor/piano_2_Gn_n_p_28_0.wav</td>\n",
       "      <td>piano_2_Gn_n_p_28_0</td>\n",
       "      <td>piano</td>\n",
       "      <td>2</td>\n",
       "      <td>n</td>\n",
       "      <td>p</td>\n",
       "      <td></td>\n",
       "      <td>Gn</td>\n",
       "    </tr>\n",
       "    <tr>\n",
       "      <th>4</th>\n",
       "      <td>./chords_clean/Gn_minor/piano_3_Gn_n_f_19_0.wav</td>\n",
       "      <td>piano_3_Gn_n_f_19_0</td>\n",
       "      <td>piano</td>\n",
       "      <td>3</td>\n",
       "      <td>n</td>\n",
       "      <td>f</td>\n",
       "      <td></td>\n",
       "      <td>Gn</td>\n",
       "    </tr>\n",
       "  </tbody>\n",
       "</table>\n",
       "</div>"
      ],
      "text/plain": [
       "                                         file_path            file_name  \\\n",
       "0  ./chords_clean/Gn_minor/piano_4_Gn_n_m_81_2.wav  piano_4_Gn_n_m_81_2   \n",
       "1  ./chords_clean/Gn_minor/piano_3_Gn_n_m_47_0.wav  piano_3_Gn_n_m_47_0   \n",
       "2  ./chords_clean/Gn_minor/piano_3_Gn_n_m_02_0.wav  piano_3_Gn_n_m_02_0   \n",
       "3  ./chords_clean/Gn_minor/piano_2_Gn_n_p_28_0.wav  piano_2_Gn_n_p_28_0   \n",
       "4  ./chords_clean/Gn_minor/piano_3_Gn_n_f_19_0.wav  piano_3_Gn_n_f_19_0   \n",
       "\n",
       "   sound octave triad_type volume chord_idx base_note_name  \n",
       "0  piano      4          n      m                       Gn  \n",
       "1  piano      3          n      m                       Gn  \n",
       "2  piano      3          n      m                       Gn  \n",
       "3  piano      2          n      p                       Gn  \n",
       "4  piano      3          n      f                       Gn  "
      ]
     },
     "execution_count": 1172,
     "metadata": {},
     "output_type": "execute_result"
    }
   ],
   "source": [
    "df.head()"
   ]
  },
  {
   "cell_type": "code",
   "execution_count": 959,
   "id": "e81460a1-016d-4143-b571-34ed66d891a7",
   "metadata": {},
   "outputs": [],
   "source": [
    "# generate the chroma for each audio file\n",
    "chroma_all = []\n",
    "\n",
    "if file_type == 'clean':\n",
    "    for index, chord_file in df['file_path'].items():\n",
    "        signal, fs = librosa.load(chord_file)\n",
    "\n",
    "        # generate the chroma\n",
    "        S = np.abs(librosa.stft(signal))\n",
    "        chroma = librosa.feature.chroma_stft(S=S, sr=sr)\n",
    "\n",
    "        chroma_avg = np.average(chroma, axis=1)\n",
    "        chroma_all.append(chroma_avg)\n",
    "\n",
    "else:\n",
    "    for index, chord_file in df['file_name'].items():\n",
    "        file_path = dir_path + \"/\" + chord_file\n",
    "\n",
    "        signal, fs = librosa.load(file_path)\n",
    "\n",
    "        # generate the chroma\n",
    "        S = np.abs(librosa.stft(signal))\n",
    "        chroma = librosa.feature.chroma_stft(S=S, sr=sr)\n",
    "\n",
    "        chroma_avg = np.average(chroma, axis=1)\n",
    "        # chroma_all = np.append(chroma_all, [chroma_avg], axis=0)\n",
    "        chroma_all.append(chroma_avg)\n",
    "\n",
    "df_chroma = pd.DataFrame(chroma_all, columns=chroma_cols)"
   ]
  },
  {
   "cell_type": "code",
   "execution_count": 960,
   "id": "b38f126e-4690-43ea-a349-aeee0dc6499e",
   "metadata": {},
   "outputs": [
    {
     "data": {
      "text/plain": [
       "(129074, 12)"
      ]
     },
     "execution_count": 960,
     "metadata": {},
     "output_type": "execute_result"
    }
   ],
   "source": [
    "df_chroma.shape"
   ]
  },
  {
   "cell_type": "code",
   "execution_count": 961,
   "id": "792975f1-cad0-4b70-bb13-9c63d06726aa",
   "metadata": {},
   "outputs": [],
   "source": [
    "df_feat = pd.concat([df, df_chroma], axis=1)"
   ]
  },
  {
   "cell_type": "code",
   "execution_count": 962,
   "id": "35676690-d4ee-4a9a-9f57-67d99ccf8233",
   "metadata": {},
   "outputs": [
    {
     "data": {
      "text/html": [
       "<div>\n",
       "<style scoped>\n",
       "    .dataframe tbody tr th:only-of-type {\n",
       "        vertical-align: middle;\n",
       "    }\n",
       "\n",
       "    .dataframe tbody tr th {\n",
       "        vertical-align: top;\n",
       "    }\n",
       "\n",
       "    .dataframe thead th {\n",
       "        text-align: right;\n",
       "    }\n",
       "</style>\n",
       "<table border=\"1\" class=\"dataframe\">\n",
       "  <thead>\n",
       "    <tr style=\"text-align: right;\">\n",
       "      <th></th>\n",
       "      <th>file_path</th>\n",
       "      <th>file_name</th>\n",
       "      <th>sound</th>\n",
       "      <th>octave</th>\n",
       "      <th>triad_type</th>\n",
       "      <th>volume</th>\n",
       "      <th>chord_idx</th>\n",
       "      <th>base_note_name</th>\n",
       "      <th>chroma_C</th>\n",
       "      <th>chroma_C#</th>\n",
       "      <th>chroma_D</th>\n",
       "      <th>chroma_D#</th>\n",
       "      <th>chroma_E</th>\n",
       "      <th>chroma_F</th>\n",
       "      <th>chroma_F#</th>\n",
       "      <th>chroma_G</th>\n",
       "      <th>chroma_G#</th>\n",
       "      <th>chroma_A</th>\n",
       "      <th>chroma_A#</th>\n",
       "      <th>chroma_B</th>\n",
       "    </tr>\n",
       "  </thead>\n",
       "  <tbody>\n",
       "    <tr>\n",
       "      <th>0</th>\n",
       "      <td>./chords_clean/Gn_minor/piano_4_Gn_n_m_81_2.wav</td>\n",
       "      <td>piano_4_Gn_n_m_81_2</td>\n",
       "      <td>piano</td>\n",
       "      <td>4</td>\n",
       "      <td>n</td>\n",
       "      <td>m</td>\n",
       "      <td></td>\n",
       "      <td>Gn</td>\n",
       "      <td>0.021086</td>\n",
       "      <td>0.062740</td>\n",
       "      <td>0.305575</td>\n",
       "      <td>0.060142</td>\n",
       "      <td>0.015906</td>\n",
       "      <td>0.019102</td>\n",
       "      <td>0.139394</td>\n",
       "      <td>0.655064</td>\n",
       "      <td>0.130309</td>\n",
       "      <td>0.189847</td>\n",
       "      <td>1.000000</td>\n",
       "      <td>0.195531</td>\n",
       "    </tr>\n",
       "    <tr>\n",
       "      <th>1</th>\n",
       "      <td>./chords_clean/Gn_minor/piano_3_Gn_n_m_47_0.wav</td>\n",
       "      <td>piano_3_Gn_n_m_47_0</td>\n",
       "      <td>piano</td>\n",
       "      <td>3</td>\n",
       "      <td>n</td>\n",
       "      <td>m</td>\n",
       "      <td></td>\n",
       "      <td>Gn</td>\n",
       "      <td>0.058108</td>\n",
       "      <td>0.221703</td>\n",
       "      <td>0.970053</td>\n",
       "      <td>0.275296</td>\n",
       "      <td>0.072009</td>\n",
       "      <td>0.251658</td>\n",
       "      <td>0.161764</td>\n",
       "      <td>0.331447</td>\n",
       "      <td>0.137081</td>\n",
       "      <td>0.257800</td>\n",
       "      <td>0.889964</td>\n",
       "      <td>0.290810</td>\n",
       "    </tr>\n",
       "    <tr>\n",
       "      <th>2</th>\n",
       "      <td>./chords_clean/Gn_minor/piano_3_Gn_n_m_02_0.wav</td>\n",
       "      <td>piano_3_Gn_n_m_02_0</td>\n",
       "      <td>piano</td>\n",
       "      <td>3</td>\n",
       "      <td>n</td>\n",
       "      <td>m</td>\n",
       "      <td></td>\n",
       "      <td>Gn</td>\n",
       "      <td>0.075322</td>\n",
       "      <td>0.264430</td>\n",
       "      <td>0.981119</td>\n",
       "      <td>0.260881</td>\n",
       "      <td>0.100008</td>\n",
       "      <td>0.243168</td>\n",
       "      <td>0.190650</td>\n",
       "      <td>0.388795</td>\n",
       "      <td>0.157322</td>\n",
       "      <td>0.289718</td>\n",
       "      <td>0.848894</td>\n",
       "      <td>0.261515</td>\n",
       "    </tr>\n",
       "    <tr>\n",
       "      <th>3</th>\n",
       "      <td>./chords_clean/Gn_minor/piano_2_Gn_n_p_28_0.wav</td>\n",
       "      <td>piano_2_Gn_n_p_28_0</td>\n",
       "      <td>piano</td>\n",
       "      <td>2</td>\n",
       "      <td>n</td>\n",
       "      <td>p</td>\n",
       "      <td></td>\n",
       "      <td>Gn</td>\n",
       "      <td>0.110490</td>\n",
       "      <td>0.283365</td>\n",
       "      <td>0.854992</td>\n",
       "      <td>0.335241</td>\n",
       "      <td>0.078169</td>\n",
       "      <td>0.185812</td>\n",
       "      <td>0.155374</td>\n",
       "      <td>0.248466</td>\n",
       "      <td>0.165908</td>\n",
       "      <td>0.431810</td>\n",
       "      <td>0.995923</td>\n",
       "      <td>0.427786</td>\n",
       "    </tr>\n",
       "    <tr>\n",
       "      <th>4</th>\n",
       "      <td>./chords_clean/Gn_minor/piano_3_Gn_n_f_19_0.wav</td>\n",
       "      <td>piano_3_Gn_n_f_19_0</td>\n",
       "      <td>piano</td>\n",
       "      <td>3</td>\n",
       "      <td>n</td>\n",
       "      <td>f</td>\n",
       "      <td></td>\n",
       "      <td>Gn</td>\n",
       "      <td>0.100534</td>\n",
       "      <td>0.242906</td>\n",
       "      <td>0.965388</td>\n",
       "      <td>0.322875</td>\n",
       "      <td>0.129069</td>\n",
       "      <td>0.307325</td>\n",
       "      <td>0.210705</td>\n",
       "      <td>0.365852</td>\n",
       "      <td>0.192919</td>\n",
       "      <td>0.286078</td>\n",
       "      <td>0.886684</td>\n",
       "      <td>0.373673</td>\n",
       "    </tr>\n",
       "  </tbody>\n",
       "</table>\n",
       "</div>"
      ],
      "text/plain": [
       "                                         file_path            file_name  \\\n",
       "0  ./chords_clean/Gn_minor/piano_4_Gn_n_m_81_2.wav  piano_4_Gn_n_m_81_2   \n",
       "1  ./chords_clean/Gn_minor/piano_3_Gn_n_m_47_0.wav  piano_3_Gn_n_m_47_0   \n",
       "2  ./chords_clean/Gn_minor/piano_3_Gn_n_m_02_0.wav  piano_3_Gn_n_m_02_0   \n",
       "3  ./chords_clean/Gn_minor/piano_2_Gn_n_p_28_0.wav  piano_2_Gn_n_p_28_0   \n",
       "4  ./chords_clean/Gn_minor/piano_3_Gn_n_f_19_0.wav  piano_3_Gn_n_f_19_0   \n",
       "\n",
       "   sound octave triad_type volume chord_idx base_note_name  chroma_C  \\\n",
       "0  piano      4          n      m                       Gn  0.021086   \n",
       "1  piano      3          n      m                       Gn  0.058108   \n",
       "2  piano      3          n      m                       Gn  0.075322   \n",
       "3  piano      2          n      p                       Gn  0.110490   \n",
       "4  piano      3          n      f                       Gn  0.100534   \n",
       "\n",
       "   chroma_C#  chroma_D  chroma_D#  chroma_E  chroma_F  chroma_F#  chroma_G  \\\n",
       "0   0.062740  0.305575   0.060142  0.015906  0.019102   0.139394  0.655064   \n",
       "1   0.221703  0.970053   0.275296  0.072009  0.251658   0.161764  0.331447   \n",
       "2   0.264430  0.981119   0.260881  0.100008  0.243168   0.190650  0.388795   \n",
       "3   0.283365  0.854992   0.335241  0.078169  0.185812   0.155374  0.248466   \n",
       "4   0.242906  0.965388   0.322875  0.129069  0.307325   0.210705  0.365852   \n",
       "\n",
       "   chroma_G#  chroma_A  chroma_A#  chroma_B  \n",
       "0   0.130309  0.189847   1.000000  0.195531  \n",
       "1   0.137081  0.257800   0.889964  0.290810  \n",
       "2   0.157322  0.289718   0.848894  0.261515  \n",
       "3   0.165908  0.431810   0.995923  0.427786  \n",
       "4   0.192919  0.286078   0.886684  0.373673  "
      ]
     },
     "execution_count": 962,
     "metadata": {},
     "output_type": "execute_result"
    }
   ],
   "source": [
    "df_feat.head()"
   ]
  },
  {
   "cell_type": "markdown",
   "id": "a5df9433-1233-4dfb-89a1-287c5ec87bdb",
   "metadata": {},
   "source": [
    "## Mel-Frequency Cepstral Coefficients (MFCC)"
   ]
  },
  {
   "cell_type": "code",
   "execution_count": 963,
   "id": "c346ca40-3529-4b89-bf15-65aef5cc2f30",
   "metadata": {},
   "outputs": [],
   "source": [
    "# specifying range of MFCCs to extract from audio file\n",
    "n_mfcc = 40\n",
    "\n",
    "# create column names based on number of MFCC\n",
    "mfcc_cols = [\"mfcc_\" + str(i) for i in range(n_mfcc)]"
   ]
  },
  {
   "cell_type": "code",
   "execution_count": 966,
   "id": "c130f8e9-6d81-4aa9-b68f-d74b667e9895",
   "metadata": {},
   "outputs": [],
   "source": [
    "# open all audio data files and extract MFCCs\n",
    "mfcc_all = []\n",
    "\n",
    "if file_type == 'clean':\n",
    "    for index, chord_file in df['file_path'].items():\n",
    "        y, sr = librosa.load(chord_file)\n",
    "\n",
    "        # generate the MFCC\n",
    "        mfcc = librosa.feature.mfcc(y=y, sr=sr, n_mfcc=n_mfcc)\n",
    "\n",
    "        # mfcc = librosa.amplitude_to_db(mfcc, ref=np.max)\n",
    "        mfcc_avg = np.average(mfcc, axis=1)\n",
    "        mfcc_all.append(np.array(mfcc_avg))\n",
    "\n",
    "else:\n",
    "    for index, chord_file in df['file_name'].items():\n",
    "        file_path = dir_path + \"/\" + chord_file\n",
    "\n",
    "        y, sr = librosa.load(file_path)\n",
    "\n",
    "        # generate the MFCC\n",
    "        mfcc = librosa.feature.mfcc(y=y, sr=sr, n_mfcc=n_mfcc)\n",
    "\n",
    "        # mfcc = librosa.amplitude_to_db(mfcc, ref=np.max)\n",
    "        mfcc_avg = np.average(mfcc, axis=1)\n",
    "        mfcc_all.append(np.array(mfcc_avg))\n",
    "    \n",
    "df_mfcc = pd.DataFrame(np.array(mfcc_all), columns=mfcc_cols)"
   ]
  },
  {
   "cell_type": "code",
   "execution_count": 967,
   "id": "4b5b0f18-3d18-46eb-b3ae-cbec29d61059",
   "metadata": {},
   "outputs": [
    {
     "data": {
      "text/html": [
       "<div>\n",
       "<style scoped>\n",
       "    .dataframe tbody tr th:only-of-type {\n",
       "        vertical-align: middle;\n",
       "    }\n",
       "\n",
       "    .dataframe tbody tr th {\n",
       "        vertical-align: top;\n",
       "    }\n",
       "\n",
       "    .dataframe thead th {\n",
       "        text-align: right;\n",
       "    }\n",
       "</style>\n",
       "<table border=\"1\" class=\"dataframe\">\n",
       "  <thead>\n",
       "    <tr style=\"text-align: right;\">\n",
       "      <th></th>\n",
       "      <th>mfcc_0</th>\n",
       "      <th>mfcc_1</th>\n",
       "      <th>mfcc_2</th>\n",
       "      <th>mfcc_3</th>\n",
       "      <th>mfcc_4</th>\n",
       "      <th>mfcc_5</th>\n",
       "      <th>mfcc_6</th>\n",
       "      <th>mfcc_7</th>\n",
       "      <th>mfcc_8</th>\n",
       "      <th>mfcc_9</th>\n",
       "      <th>...</th>\n",
       "      <th>mfcc_30</th>\n",
       "      <th>mfcc_31</th>\n",
       "      <th>mfcc_32</th>\n",
       "      <th>mfcc_33</th>\n",
       "      <th>mfcc_34</th>\n",
       "      <th>mfcc_35</th>\n",
       "      <th>mfcc_36</th>\n",
       "      <th>mfcc_37</th>\n",
       "      <th>mfcc_38</th>\n",
       "      <th>mfcc_39</th>\n",
       "    </tr>\n",
       "  </thead>\n",
       "  <tbody>\n",
       "    <tr>\n",
       "      <th>0</th>\n",
       "      <td>-713.370667</td>\n",
       "      <td>100.833771</td>\n",
       "      <td>-21.314276</td>\n",
       "      <td>-50.184433</td>\n",
       "      <td>-46.917152</td>\n",
       "      <td>0.476983</td>\n",
       "      <td>43.346539</td>\n",
       "      <td>63.805119</td>\n",
       "      <td>45.439507</td>\n",
       "      <td>21.045912</td>\n",
       "      <td>...</td>\n",
       "      <td>-5.271365</td>\n",
       "      <td>-35.312714</td>\n",
       "      <td>-24.695070</td>\n",
       "      <td>6.538298</td>\n",
       "      <td>20.906237</td>\n",
       "      <td>23.050064</td>\n",
       "      <td>19.309752</td>\n",
       "      <td>4.416486</td>\n",
       "      <td>-19.930189</td>\n",
       "      <td>-27.757179</td>\n",
       "    </tr>\n",
       "    <tr>\n",
       "      <th>1</th>\n",
       "      <td>-440.779388</td>\n",
       "      <td>163.763580</td>\n",
       "      <td>-38.377552</td>\n",
       "      <td>-10.035438</td>\n",
       "      <td>0.254902</td>\n",
       "      <td>-22.520941</td>\n",
       "      <td>-26.955339</td>\n",
       "      <td>-32.031841</td>\n",
       "      <td>-12.755747</td>\n",
       "      <td>10.149570</td>\n",
       "      <td>...</td>\n",
       "      <td>9.909188</td>\n",
       "      <td>-35.432358</td>\n",
       "      <td>-11.705332</td>\n",
       "      <td>30.663696</td>\n",
       "      <td>18.594995</td>\n",
       "      <td>16.658636</td>\n",
       "      <td>36.645432</td>\n",
       "      <td>1.628656</td>\n",
       "      <td>-48.682796</td>\n",
       "      <td>-31.272369</td>\n",
       "    </tr>\n",
       "    <tr>\n",
       "      <th>2</th>\n",
       "      <td>-477.044952</td>\n",
       "      <td>166.792664</td>\n",
       "      <td>-31.417692</td>\n",
       "      <td>-12.347205</td>\n",
       "      <td>1.290825</td>\n",
       "      <td>-17.798340</td>\n",
       "      <td>-22.773830</td>\n",
       "      <td>-30.468203</td>\n",
       "      <td>-14.567780</td>\n",
       "      <td>7.034418</td>\n",
       "      <td>...</td>\n",
       "      <td>7.302012</td>\n",
       "      <td>-34.526432</td>\n",
       "      <td>-12.856427</td>\n",
       "      <td>29.348047</td>\n",
       "      <td>22.152620</td>\n",
       "      <td>18.214745</td>\n",
       "      <td>35.632286</td>\n",
       "      <td>2.465696</td>\n",
       "      <td>-48.743973</td>\n",
       "      <td>-32.636776</td>\n",
       "    </tr>\n",
       "    <tr>\n",
       "      <th>3</th>\n",
       "      <td>-615.521606</td>\n",
       "      <td>215.051224</td>\n",
       "      <td>46.927170</td>\n",
       "      <td>7.569000</td>\n",
       "      <td>16.664244</td>\n",
       "      <td>-0.365673</td>\n",
       "      <td>-25.278669</td>\n",
       "      <td>-16.547924</td>\n",
       "      <td>-1.843403</td>\n",
       "      <td>-8.312759</td>\n",
       "      <td>...</td>\n",
       "      <td>37.208862</td>\n",
       "      <td>8.043143</td>\n",
       "      <td>-16.217188</td>\n",
       "      <td>-9.559354</td>\n",
       "      <td>17.134462</td>\n",
       "      <td>29.698212</td>\n",
       "      <td>10.742682</td>\n",
       "      <td>-17.767744</td>\n",
       "      <td>-19.438128</td>\n",
       "      <td>0.714130</td>\n",
       "    </tr>\n",
       "    <tr>\n",
       "      <th>4</th>\n",
       "      <td>-288.743134</td>\n",
       "      <td>145.437622</td>\n",
       "      <td>-70.283478</td>\n",
       "      <td>8.728217</td>\n",
       "      <td>-10.544882</td>\n",
       "      <td>-15.759177</td>\n",
       "      <td>-20.390450</td>\n",
       "      <td>-23.054817</td>\n",
       "      <td>-10.850118</td>\n",
       "      <td>4.032208</td>\n",
       "      <td>...</td>\n",
       "      <td>3.423187</td>\n",
       "      <td>-33.654514</td>\n",
       "      <td>-2.228154</td>\n",
       "      <td>30.850410</td>\n",
       "      <td>16.937263</td>\n",
       "      <td>12.650962</td>\n",
       "      <td>38.595909</td>\n",
       "      <td>3.702611</td>\n",
       "      <td>-45.797367</td>\n",
       "      <td>-24.831341</td>\n",
       "    </tr>\n",
       "    <tr>\n",
       "      <th>...</th>\n",
       "      <td>...</td>\n",
       "      <td>...</td>\n",
       "      <td>...</td>\n",
       "      <td>...</td>\n",
       "      <td>...</td>\n",
       "      <td>...</td>\n",
       "      <td>...</td>\n",
       "      <td>...</td>\n",
       "      <td>...</td>\n",
       "      <td>...</td>\n",
       "      <td>...</td>\n",
       "      <td>...</td>\n",
       "      <td>...</td>\n",
       "      <td>...</td>\n",
       "      <td>...</td>\n",
       "      <td>...</td>\n",
       "      <td>...</td>\n",
       "      <td>...</td>\n",
       "      <td>...</td>\n",
       "      <td>...</td>\n",
       "      <td>...</td>\n",
       "    </tr>\n",
       "    <tr>\n",
       "      <th>129069</th>\n",
       "      <td>-279.096161</td>\n",
       "      <td>124.286865</td>\n",
       "      <td>-72.891708</td>\n",
       "      <td>18.482634</td>\n",
       "      <td>-17.983927</td>\n",
       "      <td>-11.370126</td>\n",
       "      <td>-19.068745</td>\n",
       "      <td>-0.810949</td>\n",
       "      <td>23.033308</td>\n",
       "      <td>20.084116</td>\n",
       "      <td>...</td>\n",
       "      <td>0.801713</td>\n",
       "      <td>-46.321564</td>\n",
       "      <td>-18.515471</td>\n",
       "      <td>13.660783</td>\n",
       "      <td>3.815827</td>\n",
       "      <td>22.411919</td>\n",
       "      <td>15.001163</td>\n",
       "      <td>-31.197386</td>\n",
       "      <td>-2.127228</td>\n",
       "      <td>17.965242</td>\n",
       "    </tr>\n",
       "    <tr>\n",
       "      <th>129070</th>\n",
       "      <td>-695.342102</td>\n",
       "      <td>83.911140</td>\n",
       "      <td>-40.553539</td>\n",
       "      <td>-43.521511</td>\n",
       "      <td>-11.492293</td>\n",
       "      <td>44.947533</td>\n",
       "      <td>69.332718</td>\n",
       "      <td>36.986946</td>\n",
       "      <td>3.344324</td>\n",
       "      <td>-11.104415</td>\n",
       "      <td>...</td>\n",
       "      <td>-10.319386</td>\n",
       "      <td>-46.531845</td>\n",
       "      <td>-11.254742</td>\n",
       "      <td>21.801184</td>\n",
       "      <td>24.422869</td>\n",
       "      <td>26.303362</td>\n",
       "      <td>-2.075405</td>\n",
       "      <td>-32.348446</td>\n",
       "      <td>-16.900560</td>\n",
       "      <td>14.864216</td>\n",
       "    </tr>\n",
       "    <tr>\n",
       "      <th>129071</th>\n",
       "      <td>-620.440674</td>\n",
       "      <td>198.244278</td>\n",
       "      <td>12.849807</td>\n",
       "      <td>5.476669</td>\n",
       "      <td>4.253967</td>\n",
       "      <td>-14.675384</td>\n",
       "      <td>-15.866916</td>\n",
       "      <td>-2.088619</td>\n",
       "      <td>-21.261427</td>\n",
       "      <td>-35.509312</td>\n",
       "      <td>...</td>\n",
       "      <td>9.327981</td>\n",
       "      <td>-27.041298</td>\n",
       "      <td>-37.633244</td>\n",
       "      <td>-7.897458</td>\n",
       "      <td>19.027729</td>\n",
       "      <td>9.222253</td>\n",
       "      <td>-12.629028</td>\n",
       "      <td>-3.361988</td>\n",
       "      <td>17.865416</td>\n",
       "      <td>7.081467</td>\n",
       "    </tr>\n",
       "    <tr>\n",
       "      <th>129072</th>\n",
       "      <td>-278.211121</td>\n",
       "      <td>122.264290</td>\n",
       "      <td>-82.393738</td>\n",
       "      <td>25.053123</td>\n",
       "      <td>-28.774803</td>\n",
       "      <td>-21.626812</td>\n",
       "      <td>-16.423920</td>\n",
       "      <td>-0.193707</td>\n",
       "      <td>20.566397</td>\n",
       "      <td>13.084256</td>\n",
       "      <td>...</td>\n",
       "      <td>-5.779066</td>\n",
       "      <td>-54.243404</td>\n",
       "      <td>-15.433719</td>\n",
       "      <td>10.663919</td>\n",
       "      <td>2.038466</td>\n",
       "      <td>28.576141</td>\n",
       "      <td>11.453652</td>\n",
       "      <td>-34.804832</td>\n",
       "      <td>-3.845451</td>\n",
       "      <td>16.796074</td>\n",
       "    </tr>\n",
       "    <tr>\n",
       "      <th>129073</th>\n",
       "      <td>-600.922363</td>\n",
       "      <td>207.690247</td>\n",
       "      <td>15.124447</td>\n",
       "      <td>1.664244</td>\n",
       "      <td>3.660193</td>\n",
       "      <td>-20.852356</td>\n",
       "      <td>-16.068619</td>\n",
       "      <td>-1.426690</td>\n",
       "      <td>-19.730314</td>\n",
       "      <td>-32.828850</td>\n",
       "      <td>...</td>\n",
       "      <td>10.523759</td>\n",
       "      <td>-27.235929</td>\n",
       "      <td>-40.897480</td>\n",
       "      <td>-9.488172</td>\n",
       "      <td>20.619118</td>\n",
       "      <td>9.350741</td>\n",
       "      <td>-13.168633</td>\n",
       "      <td>-4.434166</td>\n",
       "      <td>18.843996</td>\n",
       "      <td>7.819872</td>\n",
       "    </tr>\n",
       "  </tbody>\n",
       "</table>\n",
       "<p>129074 rows × 40 columns</p>\n",
       "</div>"
      ],
      "text/plain": [
       "            mfcc_0      mfcc_1     mfcc_2     mfcc_3     mfcc_4     mfcc_5  \\\n",
       "0      -713.370667  100.833771 -21.314276 -50.184433 -46.917152   0.476983   \n",
       "1      -440.779388  163.763580 -38.377552 -10.035438   0.254902 -22.520941   \n",
       "2      -477.044952  166.792664 -31.417692 -12.347205   1.290825 -17.798340   \n",
       "3      -615.521606  215.051224  46.927170   7.569000  16.664244  -0.365673   \n",
       "4      -288.743134  145.437622 -70.283478   8.728217 -10.544882 -15.759177   \n",
       "...            ...         ...        ...        ...        ...        ...   \n",
       "129069 -279.096161  124.286865 -72.891708  18.482634 -17.983927 -11.370126   \n",
       "129070 -695.342102   83.911140 -40.553539 -43.521511 -11.492293  44.947533   \n",
       "129071 -620.440674  198.244278  12.849807   5.476669   4.253967 -14.675384   \n",
       "129072 -278.211121  122.264290 -82.393738  25.053123 -28.774803 -21.626812   \n",
       "129073 -600.922363  207.690247  15.124447   1.664244   3.660193 -20.852356   \n",
       "\n",
       "           mfcc_6     mfcc_7     mfcc_8     mfcc_9  ...    mfcc_30    mfcc_31  \\\n",
       "0       43.346539  63.805119  45.439507  21.045912  ...  -5.271365 -35.312714   \n",
       "1      -26.955339 -32.031841 -12.755747  10.149570  ...   9.909188 -35.432358   \n",
       "2      -22.773830 -30.468203 -14.567780   7.034418  ...   7.302012 -34.526432   \n",
       "3      -25.278669 -16.547924  -1.843403  -8.312759  ...  37.208862   8.043143   \n",
       "4      -20.390450 -23.054817 -10.850118   4.032208  ...   3.423187 -33.654514   \n",
       "...           ...        ...        ...        ...  ...        ...        ...   \n",
       "129069 -19.068745  -0.810949  23.033308  20.084116  ...   0.801713 -46.321564   \n",
       "129070  69.332718  36.986946   3.344324 -11.104415  ... -10.319386 -46.531845   \n",
       "129071 -15.866916  -2.088619 -21.261427 -35.509312  ...   9.327981 -27.041298   \n",
       "129072 -16.423920  -0.193707  20.566397  13.084256  ...  -5.779066 -54.243404   \n",
       "129073 -16.068619  -1.426690 -19.730314 -32.828850  ...  10.523759 -27.235929   \n",
       "\n",
       "          mfcc_32    mfcc_33    mfcc_34    mfcc_35    mfcc_36    mfcc_37  \\\n",
       "0      -24.695070   6.538298  20.906237  23.050064  19.309752   4.416486   \n",
       "1      -11.705332  30.663696  18.594995  16.658636  36.645432   1.628656   \n",
       "2      -12.856427  29.348047  22.152620  18.214745  35.632286   2.465696   \n",
       "3      -16.217188  -9.559354  17.134462  29.698212  10.742682 -17.767744   \n",
       "4       -2.228154  30.850410  16.937263  12.650962  38.595909   3.702611   \n",
       "...           ...        ...        ...        ...        ...        ...   \n",
       "129069 -18.515471  13.660783   3.815827  22.411919  15.001163 -31.197386   \n",
       "129070 -11.254742  21.801184  24.422869  26.303362  -2.075405 -32.348446   \n",
       "129071 -37.633244  -7.897458  19.027729   9.222253 -12.629028  -3.361988   \n",
       "129072 -15.433719  10.663919   2.038466  28.576141  11.453652 -34.804832   \n",
       "129073 -40.897480  -9.488172  20.619118   9.350741 -13.168633  -4.434166   \n",
       "\n",
       "          mfcc_38    mfcc_39  \n",
       "0      -19.930189 -27.757179  \n",
       "1      -48.682796 -31.272369  \n",
       "2      -48.743973 -32.636776  \n",
       "3      -19.438128   0.714130  \n",
       "4      -45.797367 -24.831341  \n",
       "...           ...        ...  \n",
       "129069  -2.127228  17.965242  \n",
       "129070 -16.900560  14.864216  \n",
       "129071  17.865416   7.081467  \n",
       "129072  -3.845451  16.796074  \n",
       "129073  18.843996   7.819872  \n",
       "\n",
       "[129074 rows x 40 columns]"
      ]
     },
     "execution_count": 967,
     "metadata": {},
     "output_type": "execute_result"
    }
   ],
   "source": [
    "df_mfcc"
   ]
  },
  {
   "cell_type": "code",
   "execution_count": 968,
   "id": "3c64cad2-aeb8-4dbd-a43a-ab97ff2d338a",
   "metadata": {},
   "outputs": [],
   "source": [
    "df_feat = pd.concat([df_feat, df_mfcc], axis=1)"
   ]
  },
  {
   "cell_type": "code",
   "execution_count": 969,
   "id": "fd7ec025-2566-4942-bad0-586613f715e6",
   "metadata": {},
   "outputs": [
    {
     "data": {
      "text/html": [
       "<div>\n",
       "<style scoped>\n",
       "    .dataframe tbody tr th:only-of-type {\n",
       "        vertical-align: middle;\n",
       "    }\n",
       "\n",
       "    .dataframe tbody tr th {\n",
       "        vertical-align: top;\n",
       "    }\n",
       "\n",
       "    .dataframe thead th {\n",
       "        text-align: right;\n",
       "    }\n",
       "</style>\n",
       "<table border=\"1\" class=\"dataframe\">\n",
       "  <thead>\n",
       "    <tr style=\"text-align: right;\">\n",
       "      <th></th>\n",
       "      <th>file_path</th>\n",
       "      <th>file_name</th>\n",
       "      <th>sound</th>\n",
       "      <th>octave</th>\n",
       "      <th>triad_type</th>\n",
       "      <th>volume</th>\n",
       "      <th>chord_idx</th>\n",
       "      <th>base_note_name</th>\n",
       "      <th>chroma_C</th>\n",
       "      <th>chroma_C#</th>\n",
       "      <th>...</th>\n",
       "      <th>mfcc_30</th>\n",
       "      <th>mfcc_31</th>\n",
       "      <th>mfcc_32</th>\n",
       "      <th>mfcc_33</th>\n",
       "      <th>mfcc_34</th>\n",
       "      <th>mfcc_35</th>\n",
       "      <th>mfcc_36</th>\n",
       "      <th>mfcc_37</th>\n",
       "      <th>mfcc_38</th>\n",
       "      <th>mfcc_39</th>\n",
       "    </tr>\n",
       "  </thead>\n",
       "  <tbody>\n",
       "    <tr>\n",
       "      <th>0</th>\n",
       "      <td>./chords_clean/Gn_minor/piano_4_Gn_n_m_81_2.wav</td>\n",
       "      <td>piano_4_Gn_n_m_81_2</td>\n",
       "      <td>piano</td>\n",
       "      <td>4</td>\n",
       "      <td>n</td>\n",
       "      <td>m</td>\n",
       "      <td></td>\n",
       "      <td>Gn</td>\n",
       "      <td>0.021086</td>\n",
       "      <td>0.062740</td>\n",
       "      <td>...</td>\n",
       "      <td>-5.271365</td>\n",
       "      <td>-35.312714</td>\n",
       "      <td>-24.695070</td>\n",
       "      <td>6.538298</td>\n",
       "      <td>20.906237</td>\n",
       "      <td>23.050064</td>\n",
       "      <td>19.309752</td>\n",
       "      <td>4.416486</td>\n",
       "      <td>-19.930189</td>\n",
       "      <td>-27.757179</td>\n",
       "    </tr>\n",
       "    <tr>\n",
       "      <th>1</th>\n",
       "      <td>./chords_clean/Gn_minor/piano_3_Gn_n_m_47_0.wav</td>\n",
       "      <td>piano_3_Gn_n_m_47_0</td>\n",
       "      <td>piano</td>\n",
       "      <td>3</td>\n",
       "      <td>n</td>\n",
       "      <td>m</td>\n",
       "      <td></td>\n",
       "      <td>Gn</td>\n",
       "      <td>0.058108</td>\n",
       "      <td>0.221703</td>\n",
       "      <td>...</td>\n",
       "      <td>9.909188</td>\n",
       "      <td>-35.432358</td>\n",
       "      <td>-11.705332</td>\n",
       "      <td>30.663696</td>\n",
       "      <td>18.594995</td>\n",
       "      <td>16.658636</td>\n",
       "      <td>36.645432</td>\n",
       "      <td>1.628656</td>\n",
       "      <td>-48.682796</td>\n",
       "      <td>-31.272369</td>\n",
       "    </tr>\n",
       "    <tr>\n",
       "      <th>2</th>\n",
       "      <td>./chords_clean/Gn_minor/piano_3_Gn_n_m_02_0.wav</td>\n",
       "      <td>piano_3_Gn_n_m_02_0</td>\n",
       "      <td>piano</td>\n",
       "      <td>3</td>\n",
       "      <td>n</td>\n",
       "      <td>m</td>\n",
       "      <td></td>\n",
       "      <td>Gn</td>\n",
       "      <td>0.075322</td>\n",
       "      <td>0.264430</td>\n",
       "      <td>...</td>\n",
       "      <td>7.302012</td>\n",
       "      <td>-34.526432</td>\n",
       "      <td>-12.856427</td>\n",
       "      <td>29.348047</td>\n",
       "      <td>22.152620</td>\n",
       "      <td>18.214745</td>\n",
       "      <td>35.632286</td>\n",
       "      <td>2.465696</td>\n",
       "      <td>-48.743973</td>\n",
       "      <td>-32.636776</td>\n",
       "    </tr>\n",
       "    <tr>\n",
       "      <th>3</th>\n",
       "      <td>./chords_clean/Gn_minor/piano_2_Gn_n_p_28_0.wav</td>\n",
       "      <td>piano_2_Gn_n_p_28_0</td>\n",
       "      <td>piano</td>\n",
       "      <td>2</td>\n",
       "      <td>n</td>\n",
       "      <td>p</td>\n",
       "      <td></td>\n",
       "      <td>Gn</td>\n",
       "      <td>0.110490</td>\n",
       "      <td>0.283365</td>\n",
       "      <td>...</td>\n",
       "      <td>37.208862</td>\n",
       "      <td>8.043143</td>\n",
       "      <td>-16.217188</td>\n",
       "      <td>-9.559354</td>\n",
       "      <td>17.134462</td>\n",
       "      <td>29.698212</td>\n",
       "      <td>10.742682</td>\n",
       "      <td>-17.767744</td>\n",
       "      <td>-19.438128</td>\n",
       "      <td>0.714130</td>\n",
       "    </tr>\n",
       "    <tr>\n",
       "      <th>4</th>\n",
       "      <td>./chords_clean/Gn_minor/piano_3_Gn_n_f_19_0.wav</td>\n",
       "      <td>piano_3_Gn_n_f_19_0</td>\n",
       "      <td>piano</td>\n",
       "      <td>3</td>\n",
       "      <td>n</td>\n",
       "      <td>f</td>\n",
       "      <td></td>\n",
       "      <td>Gn</td>\n",
       "      <td>0.100534</td>\n",
       "      <td>0.242906</td>\n",
       "      <td>...</td>\n",
       "      <td>3.423187</td>\n",
       "      <td>-33.654514</td>\n",
       "      <td>-2.228154</td>\n",
       "      <td>30.850410</td>\n",
       "      <td>16.937263</td>\n",
       "      <td>12.650962</td>\n",
       "      <td>38.595909</td>\n",
       "      <td>3.702611</td>\n",
       "      <td>-45.797367</td>\n",
       "      <td>-24.831341</td>\n",
       "    </tr>\n",
       "  </tbody>\n",
       "</table>\n",
       "<p>5 rows × 60 columns</p>\n",
       "</div>"
      ],
      "text/plain": [
       "                                         file_path            file_name  \\\n",
       "0  ./chords_clean/Gn_minor/piano_4_Gn_n_m_81_2.wav  piano_4_Gn_n_m_81_2   \n",
       "1  ./chords_clean/Gn_minor/piano_3_Gn_n_m_47_0.wav  piano_3_Gn_n_m_47_0   \n",
       "2  ./chords_clean/Gn_minor/piano_3_Gn_n_m_02_0.wav  piano_3_Gn_n_m_02_0   \n",
       "3  ./chords_clean/Gn_minor/piano_2_Gn_n_p_28_0.wav  piano_2_Gn_n_p_28_0   \n",
       "4  ./chords_clean/Gn_minor/piano_3_Gn_n_f_19_0.wav  piano_3_Gn_n_f_19_0   \n",
       "\n",
       "   sound octave triad_type volume chord_idx base_note_name  chroma_C  \\\n",
       "0  piano      4          n      m                       Gn  0.021086   \n",
       "1  piano      3          n      m                       Gn  0.058108   \n",
       "2  piano      3          n      m                       Gn  0.075322   \n",
       "3  piano      2          n      p                       Gn  0.110490   \n",
       "4  piano      3          n      f                       Gn  0.100534   \n",
       "\n",
       "   chroma_C#  ...    mfcc_30    mfcc_31    mfcc_32    mfcc_33    mfcc_34  \\\n",
       "0   0.062740  ...  -5.271365 -35.312714 -24.695070   6.538298  20.906237   \n",
       "1   0.221703  ...   9.909188 -35.432358 -11.705332  30.663696  18.594995   \n",
       "2   0.264430  ...   7.302012 -34.526432 -12.856427  29.348047  22.152620   \n",
       "3   0.283365  ...  37.208862   8.043143 -16.217188  -9.559354  17.134462   \n",
       "4   0.242906  ...   3.423187 -33.654514  -2.228154  30.850410  16.937263   \n",
       "\n",
       "     mfcc_35    mfcc_36    mfcc_37    mfcc_38    mfcc_39  \n",
       "0  23.050064  19.309752   4.416486 -19.930189 -27.757179  \n",
       "1  16.658636  36.645432   1.628656 -48.682796 -31.272369  \n",
       "2  18.214745  35.632286   2.465696 -48.743973 -32.636776  \n",
       "3  29.698212  10.742682 -17.767744 -19.438128   0.714130  \n",
       "4  12.650962  38.595909   3.702611 -45.797367 -24.831341  \n",
       "\n",
       "[5 rows x 60 columns]"
      ]
     },
     "execution_count": 969,
     "metadata": {},
     "output_type": "execute_result"
    }
   ],
   "source": [
    "df_feat.head()"
   ]
  },
  {
   "cell_type": "code",
   "execution_count": 1178,
   "id": "0b512aea-2460-458c-ab0e-07c56ff6676e",
   "metadata": {},
   "outputs": [
    {
     "data": {
      "text/plain": [
       "(129074, 61)"
      ]
     },
     "execution_count": 1178,
     "metadata": {},
     "output_type": "execute_result"
    }
   ],
   "source": [
    "df_feat.shape"
   ]
  },
  {
   "cell_type": "code",
   "execution_count": 970,
   "id": "8c264433-d75b-4560-88ac-b257615073ce",
   "metadata": {},
   "outputs": [],
   "source": [
    "df_feat.to_csv('df_clean_feat.csv', index=False)"
   ]
  },
  {
   "cell_type": "markdown",
   "id": "c8de9407-8151-4d60-bbd1-c8e8b02787eb",
   "metadata": {},
   "source": [
    "## Model Building "
   ]
  },
  {
   "cell_type": "code",
   "execution_count": 1065,
   "id": "232d075b-7522-4027-85be-8769845d0697",
   "metadata": {},
   "outputs": [],
   "source": [
    "from sklearn.preprocessing import LabelEncoder\n",
    "from sklearn.preprocessing import OneHotEncoder\n",
    "from sklearn.preprocessing import StandardScaler\n",
    "from sklearn.compose import ColumnTransformer\n",
    "from sklearn.impute import SimpleImputer\n",
    "from sklearn.decomposition import PCA\n",
    "from sklearn.base import BaseEstimator, TransformerMixin\n",
    "from sklearn.preprocessing import FunctionTransformer\n",
    "from sklearn.model_selection import train_test_split\n",
    "from sklearn.model_selection import GridSearchCV\n",
    "from sklearn.model_selection import cross_val_score\n",
    "\n",
    "from xgboost import XGBClassifier\n",
    "import xgboost as xgb\n",
    "from sklearn.tree import DecisionTreeClassifier\n",
    "from sklearn.ensemble import RandomForestClassifier as rfc\n",
    "from sklearn.linear_model import LogisticRegression\n",
    "from sklearn.linear_model import RidgeClassifier\n",
    "from sklearn.linear_model import LinearRegression\n",
    "from sklearn.svm import SVC\n",
    "\n",
    "from sklearn.pipeline import Pipeline, FeatureUnion\n",
    "from sklearn.feature_selection import SelectKBest\n",
    "\n",
    "import sklearn.metrics as metrics\n",
    "from sklearn.metrics import confusion_matrix\n",
    "from sklearn.metrics import precision_score\n",
    "from sklearn.metrics import classification_report\n",
    "from sklearn.metrics import mean_squared_error\n",
    "from sklearn.metrics import accuracy_score\n",
    "\n",
    "import pickle\n",
    "import joblib\n"
   ]
  },
  {
   "cell_type": "code",
   "execution_count": 1175,
   "id": "7fd4c35b-544e-46e3-bac7-2b75b1c24c08",
   "metadata": {},
   "outputs": [],
   "source": [
    "df_feat = pd.read_csv('df_clean_feat.csv')"
   ]
  },
  {
   "cell_type": "code",
   "execution_count": 1176,
   "id": "33e0d529-9157-4632-9e7c-66d46bef6e23",
   "metadata": {},
   "outputs": [],
   "source": [
    "# create column names based on number of MFCC\n",
    "n_mfcc = 40\n",
    "mfcc_cols = [\"mfcc_\" + str(i) for i in range(n_mfcc)]"
   ]
  },
  {
   "cell_type": "code",
   "execution_count": 1177,
   "id": "8cd21614-00dc-4ec5-b021-ae587d31d56d",
   "metadata": {},
   "outputs": [],
   "source": [
    "# create our target variable 'chord'\n",
    "df_feat['chord'] = df_feat['base_note_name'] + '_' + df_feat['triad_type']"
   ]
  },
  {
   "cell_type": "code",
   "execution_count": 1069,
   "id": "08ec77fa-4718-4639-b1b2-b78e44035d73",
   "metadata": {},
   "outputs": [
    {
     "data": {
      "text/html": [
       "<div>\n",
       "<style scoped>\n",
       "    .dataframe tbody tr th:only-of-type {\n",
       "        vertical-align: middle;\n",
       "    }\n",
       "\n",
       "    .dataframe tbody tr th {\n",
       "        vertical-align: top;\n",
       "    }\n",
       "\n",
       "    .dataframe thead th {\n",
       "        text-align: right;\n",
       "    }\n",
       "</style>\n",
       "<table border=\"1\" class=\"dataframe\">\n",
       "  <thead>\n",
       "    <tr style=\"text-align: right;\">\n",
       "      <th></th>\n",
       "      <th>file_path</th>\n",
       "      <th>file_name</th>\n",
       "      <th>sound</th>\n",
       "      <th>octave</th>\n",
       "      <th>triad_type</th>\n",
       "      <th>volume</th>\n",
       "      <th>chord_idx</th>\n",
       "      <th>base_note_name</th>\n",
       "      <th>chroma_C</th>\n",
       "      <th>chroma_C#</th>\n",
       "      <th>...</th>\n",
       "      <th>mfcc_31</th>\n",
       "      <th>mfcc_32</th>\n",
       "      <th>mfcc_33</th>\n",
       "      <th>mfcc_34</th>\n",
       "      <th>mfcc_35</th>\n",
       "      <th>mfcc_36</th>\n",
       "      <th>mfcc_37</th>\n",
       "      <th>mfcc_38</th>\n",
       "      <th>mfcc_39</th>\n",
       "      <th>chord</th>\n",
       "    </tr>\n",
       "  </thead>\n",
       "  <tbody>\n",
       "    <tr>\n",
       "      <th>0</th>\n",
       "      <td>./chords_clean/Gn_minor/piano_4_Gn_n_m_81_2.wav</td>\n",
       "      <td>piano_4_Gn_n_m_81_2</td>\n",
       "      <td>piano</td>\n",
       "      <td>4</td>\n",
       "      <td>n</td>\n",
       "      <td>m</td>\n",
       "      <td>NaN</td>\n",
       "      <td>Gn</td>\n",
       "      <td>0.021086</td>\n",
       "      <td>0.062740</td>\n",
       "      <td>...</td>\n",
       "      <td>-35.312714</td>\n",
       "      <td>-24.695070</td>\n",
       "      <td>6.538298</td>\n",
       "      <td>20.906237</td>\n",
       "      <td>23.050064</td>\n",
       "      <td>19.309752</td>\n",
       "      <td>4.416486</td>\n",
       "      <td>-19.930190</td>\n",
       "      <td>-27.757180</td>\n",
       "      <td>Gn_n</td>\n",
       "    </tr>\n",
       "    <tr>\n",
       "      <th>1</th>\n",
       "      <td>./chords_clean/Gn_minor/piano_3_Gn_n_m_47_0.wav</td>\n",
       "      <td>piano_3_Gn_n_m_47_0</td>\n",
       "      <td>piano</td>\n",
       "      <td>3</td>\n",
       "      <td>n</td>\n",
       "      <td>m</td>\n",
       "      <td>NaN</td>\n",
       "      <td>Gn</td>\n",
       "      <td>0.058108</td>\n",
       "      <td>0.221703</td>\n",
       "      <td>...</td>\n",
       "      <td>-35.432358</td>\n",
       "      <td>-11.705332</td>\n",
       "      <td>30.663696</td>\n",
       "      <td>18.594995</td>\n",
       "      <td>16.658636</td>\n",
       "      <td>36.645430</td>\n",
       "      <td>1.628656</td>\n",
       "      <td>-48.682796</td>\n",
       "      <td>-31.272370</td>\n",
       "      <td>Gn_n</td>\n",
       "    </tr>\n",
       "    <tr>\n",
       "      <th>2</th>\n",
       "      <td>./chords_clean/Gn_minor/piano_3_Gn_n_m_02_0.wav</td>\n",
       "      <td>piano_3_Gn_n_m_02_0</td>\n",
       "      <td>piano</td>\n",
       "      <td>3</td>\n",
       "      <td>n</td>\n",
       "      <td>m</td>\n",
       "      <td>NaN</td>\n",
       "      <td>Gn</td>\n",
       "      <td>0.075322</td>\n",
       "      <td>0.264430</td>\n",
       "      <td>...</td>\n",
       "      <td>-34.526432</td>\n",
       "      <td>-12.856427</td>\n",
       "      <td>29.348047</td>\n",
       "      <td>22.152620</td>\n",
       "      <td>18.214745</td>\n",
       "      <td>35.632286</td>\n",
       "      <td>2.465696</td>\n",
       "      <td>-48.743973</td>\n",
       "      <td>-32.636776</td>\n",
       "      <td>Gn_n</td>\n",
       "    </tr>\n",
       "    <tr>\n",
       "      <th>3</th>\n",
       "      <td>./chords_clean/Gn_minor/piano_2_Gn_n_p_28_0.wav</td>\n",
       "      <td>piano_2_Gn_n_p_28_0</td>\n",
       "      <td>piano</td>\n",
       "      <td>2</td>\n",
       "      <td>n</td>\n",
       "      <td>p</td>\n",
       "      <td>NaN</td>\n",
       "      <td>Gn</td>\n",
       "      <td>0.110490</td>\n",
       "      <td>0.283365</td>\n",
       "      <td>...</td>\n",
       "      <td>8.043143</td>\n",
       "      <td>-16.217188</td>\n",
       "      <td>-9.559354</td>\n",
       "      <td>17.134462</td>\n",
       "      <td>29.698212</td>\n",
       "      <td>10.742682</td>\n",
       "      <td>-17.767744</td>\n",
       "      <td>-19.438128</td>\n",
       "      <td>0.714130</td>\n",
       "      <td>Gn_n</td>\n",
       "    </tr>\n",
       "    <tr>\n",
       "      <th>4</th>\n",
       "      <td>./chords_clean/Gn_minor/piano_3_Gn_n_f_19_0.wav</td>\n",
       "      <td>piano_3_Gn_n_f_19_0</td>\n",
       "      <td>piano</td>\n",
       "      <td>3</td>\n",
       "      <td>n</td>\n",
       "      <td>f</td>\n",
       "      <td>NaN</td>\n",
       "      <td>Gn</td>\n",
       "      <td>0.100534</td>\n",
       "      <td>0.242906</td>\n",
       "      <td>...</td>\n",
       "      <td>-33.654514</td>\n",
       "      <td>-2.228154</td>\n",
       "      <td>30.850410</td>\n",
       "      <td>16.937263</td>\n",
       "      <td>12.650962</td>\n",
       "      <td>38.595910</td>\n",
       "      <td>3.702611</td>\n",
       "      <td>-45.797367</td>\n",
       "      <td>-24.831340</td>\n",
       "      <td>Gn_n</td>\n",
       "    </tr>\n",
       "  </tbody>\n",
       "</table>\n",
       "<p>5 rows × 61 columns</p>\n",
       "</div>"
      ],
      "text/plain": [
       "                                         file_path            file_name  \\\n",
       "0  ./chords_clean/Gn_minor/piano_4_Gn_n_m_81_2.wav  piano_4_Gn_n_m_81_2   \n",
       "1  ./chords_clean/Gn_minor/piano_3_Gn_n_m_47_0.wav  piano_3_Gn_n_m_47_0   \n",
       "2  ./chords_clean/Gn_minor/piano_3_Gn_n_m_02_0.wav  piano_3_Gn_n_m_02_0   \n",
       "3  ./chords_clean/Gn_minor/piano_2_Gn_n_p_28_0.wav  piano_2_Gn_n_p_28_0   \n",
       "4  ./chords_clean/Gn_minor/piano_3_Gn_n_f_19_0.wav  piano_3_Gn_n_f_19_0   \n",
       "\n",
       "   sound  octave triad_type volume  chord_idx base_note_name  chroma_C  \\\n",
       "0  piano       4          n      m        NaN             Gn  0.021086   \n",
       "1  piano       3          n      m        NaN             Gn  0.058108   \n",
       "2  piano       3          n      m        NaN             Gn  0.075322   \n",
       "3  piano       2          n      p        NaN             Gn  0.110490   \n",
       "4  piano       3          n      f        NaN             Gn  0.100534   \n",
       "\n",
       "   chroma_C#  ...    mfcc_31    mfcc_32    mfcc_33    mfcc_34    mfcc_35  \\\n",
       "0   0.062740  ... -35.312714 -24.695070   6.538298  20.906237  23.050064   \n",
       "1   0.221703  ... -35.432358 -11.705332  30.663696  18.594995  16.658636   \n",
       "2   0.264430  ... -34.526432 -12.856427  29.348047  22.152620  18.214745   \n",
       "3   0.283365  ...   8.043143 -16.217188  -9.559354  17.134462  29.698212   \n",
       "4   0.242906  ... -33.654514  -2.228154  30.850410  16.937263  12.650962   \n",
       "\n",
       "     mfcc_36    mfcc_37    mfcc_38    mfcc_39  chord  \n",
       "0  19.309752   4.416486 -19.930190 -27.757180   Gn_n  \n",
       "1  36.645430   1.628656 -48.682796 -31.272370   Gn_n  \n",
       "2  35.632286   2.465696 -48.743973 -32.636776   Gn_n  \n",
       "3  10.742682 -17.767744 -19.438128   0.714130   Gn_n  \n",
       "4  38.595910   3.702611 -45.797367 -24.831340   Gn_n  \n",
       "\n",
       "[5 rows x 61 columns]"
      ]
     },
     "execution_count": 1069,
     "metadata": {},
     "output_type": "execute_result"
    }
   ],
   "source": [
    "df_feat.head()"
   ]
  },
  {
   "cell_type": "code",
   "execution_count": 1070,
   "id": "70826e26-ab24-4caa-bdd4-03e3debc7ffa",
   "metadata": {},
   "outputs": [],
   "source": [
    "chroma_cols = ['chroma_C', \n",
    "               'chroma_C#', \n",
    "               'chroma_D', \n",
    "               'chroma_D#', \n",
    "               'chroma_E', \n",
    "               'chroma_F',\n",
    "               'chroma_F#',\n",
    "               'chroma_G',\n",
    "               'chroma_G#',\n",
    "               'chroma_A',\n",
    "               'chroma_A#',\n",
    "               'chroma_B']"
   ]
  },
  {
   "cell_type": "code",
   "execution_count": 1071,
   "id": "6f502136-3a62-45f5-8fda-f2aee6acd52a",
   "metadata": {},
   "outputs": [],
   "source": [
    "df_feat.drop(columns=['file_path', 'file_name', 'sound', 'chord_idx', 'triad_type', 'base_note_name', 'volume', 'octave'], inplace=True)\n",
    "# df_feat.drop(columns=mfcc_cols, inplace=True)\n",
    "# df_feat.drop(columns=chroma_cols, inplace=True)"
   ]
  },
  {
   "cell_type": "code",
   "execution_count": 1072,
   "id": "71bc21b3-5e5d-4ca3-b85c-d48445737bea",
   "metadata": {},
   "outputs": [],
   "source": [
    "labelencoder = LabelEncoder()\n",
    "df_feat['chord'] = labelencoder.fit_transform(df_feat['chord'])"
   ]
  },
  {
   "cell_type": "code",
   "execution_count": 1073,
   "id": "daf7eb9a-ea16-4b92-992a-ffd56ad1679d",
   "metadata": {},
   "outputs": [
    {
     "data": {
      "text/html": [
       "<div>\n",
       "<style scoped>\n",
       "    .dataframe tbody tr th:only-of-type {\n",
       "        vertical-align: middle;\n",
       "    }\n",
       "\n",
       "    .dataframe tbody tr th {\n",
       "        vertical-align: top;\n",
       "    }\n",
       "\n",
       "    .dataframe thead th {\n",
       "        text-align: right;\n",
       "    }\n",
       "</style>\n",
       "<table border=\"1\" class=\"dataframe\">\n",
       "  <thead>\n",
       "    <tr style=\"text-align: right;\">\n",
       "      <th></th>\n",
       "      <th>chroma_C</th>\n",
       "      <th>chroma_C#</th>\n",
       "      <th>chroma_D</th>\n",
       "      <th>chroma_D#</th>\n",
       "      <th>chroma_E</th>\n",
       "      <th>chroma_F</th>\n",
       "      <th>chroma_F#</th>\n",
       "      <th>chroma_G</th>\n",
       "      <th>chroma_G#</th>\n",
       "      <th>chroma_A</th>\n",
       "      <th>...</th>\n",
       "      <th>mfcc_31</th>\n",
       "      <th>mfcc_32</th>\n",
       "      <th>mfcc_33</th>\n",
       "      <th>mfcc_34</th>\n",
       "      <th>mfcc_35</th>\n",
       "      <th>mfcc_36</th>\n",
       "      <th>mfcc_37</th>\n",
       "      <th>mfcc_38</th>\n",
       "      <th>mfcc_39</th>\n",
       "      <th>chord</th>\n",
       "    </tr>\n",
       "  </thead>\n",
       "  <tbody>\n",
       "    <tr>\n",
       "      <th>0</th>\n",
       "      <td>0.021086</td>\n",
       "      <td>0.062740</td>\n",
       "      <td>0.305575</td>\n",
       "      <td>0.060142</td>\n",
       "      <td>0.015906</td>\n",
       "      <td>0.019102</td>\n",
       "      <td>0.139394</td>\n",
       "      <td>0.655064</td>\n",
       "      <td>0.130309</td>\n",
       "      <td>0.189847</td>\n",
       "      <td>...</td>\n",
       "      <td>-35.312714</td>\n",
       "      <td>-24.695070</td>\n",
       "      <td>6.538298</td>\n",
       "      <td>20.906237</td>\n",
       "      <td>23.050064</td>\n",
       "      <td>19.309752</td>\n",
       "      <td>4.416486</td>\n",
       "      <td>-19.930190</td>\n",
       "      <td>-27.757180</td>\n",
       "      <td>47</td>\n",
       "    </tr>\n",
       "    <tr>\n",
       "      <th>1</th>\n",
       "      <td>0.058108</td>\n",
       "      <td>0.221703</td>\n",
       "      <td>0.970053</td>\n",
       "      <td>0.275296</td>\n",
       "      <td>0.072009</td>\n",
       "      <td>0.251658</td>\n",
       "      <td>0.161764</td>\n",
       "      <td>0.331447</td>\n",
       "      <td>0.137081</td>\n",
       "      <td>0.257800</td>\n",
       "      <td>...</td>\n",
       "      <td>-35.432358</td>\n",
       "      <td>-11.705332</td>\n",
       "      <td>30.663696</td>\n",
       "      <td>18.594995</td>\n",
       "      <td>16.658636</td>\n",
       "      <td>36.645430</td>\n",
       "      <td>1.628656</td>\n",
       "      <td>-48.682796</td>\n",
       "      <td>-31.272370</td>\n",
       "      <td>47</td>\n",
       "    </tr>\n",
       "    <tr>\n",
       "      <th>2</th>\n",
       "      <td>0.075322</td>\n",
       "      <td>0.264430</td>\n",
       "      <td>0.981119</td>\n",
       "      <td>0.260881</td>\n",
       "      <td>0.100008</td>\n",
       "      <td>0.243168</td>\n",
       "      <td>0.190650</td>\n",
       "      <td>0.388795</td>\n",
       "      <td>0.157322</td>\n",
       "      <td>0.289718</td>\n",
       "      <td>...</td>\n",
       "      <td>-34.526432</td>\n",
       "      <td>-12.856427</td>\n",
       "      <td>29.348047</td>\n",
       "      <td>22.152620</td>\n",
       "      <td>18.214745</td>\n",
       "      <td>35.632286</td>\n",
       "      <td>2.465696</td>\n",
       "      <td>-48.743973</td>\n",
       "      <td>-32.636776</td>\n",
       "      <td>47</td>\n",
       "    </tr>\n",
       "    <tr>\n",
       "      <th>3</th>\n",
       "      <td>0.110490</td>\n",
       "      <td>0.283365</td>\n",
       "      <td>0.854992</td>\n",
       "      <td>0.335241</td>\n",
       "      <td>0.078169</td>\n",
       "      <td>0.185812</td>\n",
       "      <td>0.155374</td>\n",
       "      <td>0.248466</td>\n",
       "      <td>0.165908</td>\n",
       "      <td>0.431810</td>\n",
       "      <td>...</td>\n",
       "      <td>8.043143</td>\n",
       "      <td>-16.217188</td>\n",
       "      <td>-9.559354</td>\n",
       "      <td>17.134462</td>\n",
       "      <td>29.698212</td>\n",
       "      <td>10.742682</td>\n",
       "      <td>-17.767744</td>\n",
       "      <td>-19.438128</td>\n",
       "      <td>0.714130</td>\n",
       "      <td>47</td>\n",
       "    </tr>\n",
       "    <tr>\n",
       "      <th>4</th>\n",
       "      <td>0.100534</td>\n",
       "      <td>0.242906</td>\n",
       "      <td>0.965388</td>\n",
       "      <td>0.322875</td>\n",
       "      <td>0.129069</td>\n",
       "      <td>0.307325</td>\n",
       "      <td>0.210705</td>\n",
       "      <td>0.365852</td>\n",
       "      <td>0.192919</td>\n",
       "      <td>0.286078</td>\n",
       "      <td>...</td>\n",
       "      <td>-33.654514</td>\n",
       "      <td>-2.228154</td>\n",
       "      <td>30.850410</td>\n",
       "      <td>16.937263</td>\n",
       "      <td>12.650962</td>\n",
       "      <td>38.595910</td>\n",
       "      <td>3.702611</td>\n",
       "      <td>-45.797367</td>\n",
       "      <td>-24.831340</td>\n",
       "      <td>47</td>\n",
       "    </tr>\n",
       "  </tbody>\n",
       "</table>\n",
       "<p>5 rows × 53 columns</p>\n",
       "</div>"
      ],
      "text/plain": [
       "   chroma_C  chroma_C#  chroma_D  chroma_D#  chroma_E  chroma_F  chroma_F#  \\\n",
       "0  0.021086   0.062740  0.305575   0.060142  0.015906  0.019102   0.139394   \n",
       "1  0.058108   0.221703  0.970053   0.275296  0.072009  0.251658   0.161764   \n",
       "2  0.075322   0.264430  0.981119   0.260881  0.100008  0.243168   0.190650   \n",
       "3  0.110490   0.283365  0.854992   0.335241  0.078169  0.185812   0.155374   \n",
       "4  0.100534   0.242906  0.965388   0.322875  0.129069  0.307325   0.210705   \n",
       "\n",
       "   chroma_G  chroma_G#  chroma_A  ...    mfcc_31    mfcc_32    mfcc_33  \\\n",
       "0  0.655064   0.130309  0.189847  ... -35.312714 -24.695070   6.538298   \n",
       "1  0.331447   0.137081  0.257800  ... -35.432358 -11.705332  30.663696   \n",
       "2  0.388795   0.157322  0.289718  ... -34.526432 -12.856427  29.348047   \n",
       "3  0.248466   0.165908  0.431810  ...   8.043143 -16.217188  -9.559354   \n",
       "4  0.365852   0.192919  0.286078  ... -33.654514  -2.228154  30.850410   \n",
       "\n",
       "     mfcc_34    mfcc_35    mfcc_36    mfcc_37    mfcc_38    mfcc_39  chord  \n",
       "0  20.906237  23.050064  19.309752   4.416486 -19.930190 -27.757180     47  \n",
       "1  18.594995  16.658636  36.645430   1.628656 -48.682796 -31.272370     47  \n",
       "2  22.152620  18.214745  35.632286   2.465696 -48.743973 -32.636776     47  \n",
       "3  17.134462  29.698212  10.742682 -17.767744 -19.438128   0.714130     47  \n",
       "4  16.937263  12.650962  38.595910   3.702611 -45.797367 -24.831340     47  \n",
       "\n",
       "[5 rows x 53 columns]"
      ]
     },
     "execution_count": 1073,
     "metadata": {},
     "output_type": "execute_result"
    }
   ],
   "source": [
    "df_feat.head(5)"
   ]
  },
  {
   "cell_type": "code",
   "execution_count": 1074,
   "id": "7841c044-b29f-466d-91fa-14980aaa1929",
   "metadata": {},
   "outputs": [],
   "source": [
    "# normalize 'octave'\n",
    "\n",
    "from sklearn.preprocessing import MinMaxScaler\n",
    "scaler = MinMaxScaler()\n",
    "# df_feat[chroma_cols] = scaler.fit_transform(df_feat[chroma_cols])\n",
    "df_feat[mfcc_cols] = scaler.fit_transform(df_feat[mfcc_cols])"
   ]
  },
  {
   "cell_type": "code",
   "execution_count": 1075,
   "id": "efad1eb9-1661-4508-a327-19e2764bddf4",
   "metadata": {},
   "outputs": [
    {
     "data": {
      "text/html": [
       "<div>\n",
       "<style scoped>\n",
       "    .dataframe tbody tr th:only-of-type {\n",
       "        vertical-align: middle;\n",
       "    }\n",
       "\n",
       "    .dataframe tbody tr th {\n",
       "        vertical-align: top;\n",
       "    }\n",
       "\n",
       "    .dataframe thead th {\n",
       "        text-align: right;\n",
       "    }\n",
       "</style>\n",
       "<table border=\"1\" class=\"dataframe\">\n",
       "  <thead>\n",
       "    <tr style=\"text-align: right;\">\n",
       "      <th></th>\n",
       "      <th>chroma_C</th>\n",
       "      <th>chroma_C#</th>\n",
       "      <th>chroma_D</th>\n",
       "      <th>chroma_D#</th>\n",
       "      <th>chroma_E</th>\n",
       "      <th>chroma_F</th>\n",
       "      <th>chroma_F#</th>\n",
       "      <th>chroma_G</th>\n",
       "      <th>chroma_G#</th>\n",
       "      <th>chroma_A</th>\n",
       "      <th>...</th>\n",
       "      <th>mfcc_31</th>\n",
       "      <th>mfcc_32</th>\n",
       "      <th>mfcc_33</th>\n",
       "      <th>mfcc_34</th>\n",
       "      <th>mfcc_35</th>\n",
       "      <th>mfcc_36</th>\n",
       "      <th>mfcc_37</th>\n",
       "      <th>mfcc_38</th>\n",
       "      <th>mfcc_39</th>\n",
       "      <th>chord</th>\n",
       "    </tr>\n",
       "  </thead>\n",
       "  <tbody>\n",
       "    <tr>\n",
       "      <th>0</th>\n",
       "      <td>0.021086</td>\n",
       "      <td>0.062740</td>\n",
       "      <td>0.305575</td>\n",
       "      <td>0.060142</td>\n",
       "      <td>0.015906</td>\n",
       "      <td>0.019102</td>\n",
       "      <td>0.139394</td>\n",
       "      <td>0.655064</td>\n",
       "      <td>0.130309</td>\n",
       "      <td>0.189847</td>\n",
       "      <td>...</td>\n",
       "      <td>0.241411</td>\n",
       "      <td>0.338654</td>\n",
       "      <td>0.534589</td>\n",
       "      <td>0.668720</td>\n",
       "      <td>0.718258</td>\n",
       "      <td>0.592838</td>\n",
       "      <td>0.531255</td>\n",
       "      <td>0.316877</td>\n",
       "      <td>0.232899</td>\n",
       "      <td>47</td>\n",
       "    </tr>\n",
       "    <tr>\n",
       "      <th>1</th>\n",
       "      <td>0.058108</td>\n",
       "      <td>0.221703</td>\n",
       "      <td>0.970053</td>\n",
       "      <td>0.275296</td>\n",
       "      <td>0.072009</td>\n",
       "      <td>0.251658</td>\n",
       "      <td>0.161764</td>\n",
       "      <td>0.331447</td>\n",
       "      <td>0.137081</td>\n",
       "      <td>0.257800</td>\n",
       "      <td>...</td>\n",
       "      <td>0.240702</td>\n",
       "      <td>0.426700</td>\n",
       "      <td>0.731338</td>\n",
       "      <td>0.643535</td>\n",
       "      <td>0.649024</td>\n",
       "      <td>0.736927</td>\n",
       "      <td>0.510103</td>\n",
       "      <td>0.115492</td>\n",
       "      <td>0.207971</td>\n",
       "      <td>47</td>\n",
       "    </tr>\n",
       "    <tr>\n",
       "      <th>2</th>\n",
       "      <td>0.075322</td>\n",
       "      <td>0.264430</td>\n",
       "      <td>0.981119</td>\n",
       "      <td>0.260881</td>\n",
       "      <td>0.100008</td>\n",
       "      <td>0.243168</td>\n",
       "      <td>0.190650</td>\n",
       "      <td>0.388795</td>\n",
       "      <td>0.157322</td>\n",
       "      <td>0.289718</td>\n",
       "      <td>...</td>\n",
       "      <td>0.246073</td>\n",
       "      <td>0.418897</td>\n",
       "      <td>0.720608</td>\n",
       "      <td>0.682302</td>\n",
       "      <td>0.665881</td>\n",
       "      <td>0.728506</td>\n",
       "      <td>0.516454</td>\n",
       "      <td>0.115064</td>\n",
       "      <td>0.198296</td>\n",
       "      <td>47</td>\n",
       "    </tr>\n",
       "    <tr>\n",
       "      <th>3</th>\n",
       "      <td>0.110490</td>\n",
       "      <td>0.283365</td>\n",
       "      <td>0.854992</td>\n",
       "      <td>0.335241</td>\n",
       "      <td>0.078169</td>\n",
       "      <td>0.185812</td>\n",
       "      <td>0.155374</td>\n",
       "      <td>0.248466</td>\n",
       "      <td>0.165908</td>\n",
       "      <td>0.431810</td>\n",
       "      <td>...</td>\n",
       "      <td>0.498476</td>\n",
       "      <td>0.396118</td>\n",
       "      <td>0.403309</td>\n",
       "      <td>0.627620</td>\n",
       "      <td>0.790272</td>\n",
       "      <td>0.521631</td>\n",
       "      <td>0.362936</td>\n",
       "      <td>0.320324</td>\n",
       "      <td>0.434800</td>\n",
       "      <td>47</td>\n",
       "    </tr>\n",
       "    <tr>\n",
       "      <th>4</th>\n",
       "      <td>0.100534</td>\n",
       "      <td>0.242906</td>\n",
       "      <td>0.965388</td>\n",
       "      <td>0.322875</td>\n",
       "      <td>0.129069</td>\n",
       "      <td>0.307325</td>\n",
       "      <td>0.210705</td>\n",
       "      <td>0.365852</td>\n",
       "      <td>0.192919</td>\n",
       "      <td>0.286078</td>\n",
       "      <td>...</td>\n",
       "      <td>0.251243</td>\n",
       "      <td>0.490937</td>\n",
       "      <td>0.732860</td>\n",
       "      <td>0.625472</td>\n",
       "      <td>0.605613</td>\n",
       "      <td>0.753139</td>\n",
       "      <td>0.525839</td>\n",
       "      <td>0.135702</td>\n",
       "      <td>0.253647</td>\n",
       "      <td>47</td>\n",
       "    </tr>\n",
       "  </tbody>\n",
       "</table>\n",
       "<p>5 rows × 53 columns</p>\n",
       "</div>"
      ],
      "text/plain": [
       "   chroma_C  chroma_C#  chroma_D  chroma_D#  chroma_E  chroma_F  chroma_F#  \\\n",
       "0  0.021086   0.062740  0.305575   0.060142  0.015906  0.019102   0.139394   \n",
       "1  0.058108   0.221703  0.970053   0.275296  0.072009  0.251658   0.161764   \n",
       "2  0.075322   0.264430  0.981119   0.260881  0.100008  0.243168   0.190650   \n",
       "3  0.110490   0.283365  0.854992   0.335241  0.078169  0.185812   0.155374   \n",
       "4  0.100534   0.242906  0.965388   0.322875  0.129069  0.307325   0.210705   \n",
       "\n",
       "   chroma_G  chroma_G#  chroma_A  ...   mfcc_31   mfcc_32   mfcc_33   mfcc_34  \\\n",
       "0  0.655064   0.130309  0.189847  ...  0.241411  0.338654  0.534589  0.668720   \n",
       "1  0.331447   0.137081  0.257800  ...  0.240702  0.426700  0.731338  0.643535   \n",
       "2  0.388795   0.157322  0.289718  ...  0.246073  0.418897  0.720608  0.682302   \n",
       "3  0.248466   0.165908  0.431810  ...  0.498476  0.396118  0.403309  0.627620   \n",
       "4  0.365852   0.192919  0.286078  ...  0.251243  0.490937  0.732860  0.625472   \n",
       "\n",
       "    mfcc_35   mfcc_36   mfcc_37   mfcc_38   mfcc_39  chord  \n",
       "0  0.718258  0.592838  0.531255  0.316877  0.232899     47  \n",
       "1  0.649024  0.736927  0.510103  0.115492  0.207971     47  \n",
       "2  0.665881  0.728506  0.516454  0.115064  0.198296     47  \n",
       "3  0.790272  0.521631  0.362936  0.320324  0.434800     47  \n",
       "4  0.605613  0.753139  0.525839  0.135702  0.253647     47  \n",
       "\n",
       "[5 rows x 53 columns]"
      ]
     },
     "execution_count": 1075,
     "metadata": {},
     "output_type": "execute_result"
    }
   ],
   "source": [
    "df_feat.head(5)"
   ]
  },
  {
   "cell_type": "code",
   "execution_count": null,
   "id": "021b6084-0448-4258-a1ed-9140212ed8cc",
   "metadata": {},
   "outputs": [],
   "source": []
  },
  {
   "cell_type": "markdown",
   "id": "77c62453-a15d-460e-aaa9-2c262190e362",
   "metadata": {},
   "source": [
    "#### Logistic Regression"
   ]
  },
  {
   "cell_type": "code",
   "execution_count": 1076,
   "id": "f082e312-5381-4b57-acd0-af67f37e2c15",
   "metadata": {},
   "outputs": [],
   "source": [
    "# Split the variables:\n",
    "X = df_feat.drop(columns=['chord'])\n",
    "y = df_feat['chord']\n",
    "\n",
    "# Split dataset into Training set and Testing Set\n",
    "from sklearn.model_selection import train_test_split\n",
    "X_train, X_test, y_train, y_test = train_test_split(X, y, test_size=0.3, random_state=27)\n",
    "\n",
    "# Fitting Logistic Regression to the Training set\n",
    "model = LogisticRegression(random_state = 48, penalty='l2')\n",
    "model.fit(X_train, y_train)\n",
    "\n",
    "# Predicting the Test set results\n",
    "y_pred = model.predict(X_test)\n",
    "acc = accuracy_score(y_test, y_pred)\n"
   ]
  },
  {
   "cell_type": "code",
   "execution_count": 1077,
   "id": "8da1217d-43d5-449e-887d-f17fa6cd1abf",
   "metadata": {},
   "outputs": [
    {
     "name": "stdout",
     "output_type": "stream",
     "text": [
      "Accuracy \t1.000\n",
      "Recall \t\t1.000\n",
      "Precision \t1.000\n",
      "F1 Score \t1.000\n"
     ]
    }
   ],
   "source": [
    "print(\"Accuracy \\t{:.3f}\".format(metrics.accuracy_score(y_test, y_pred)))\n",
    "print('Recall \\t\\t{:.3f}'.format(metrics.recall_score(y_test, y_pred, average='weighted')))\n",
    "print('Precision \\t{:.3f}'.format(metrics.precision_score(y_test, y_pred, average='weighted')))\n",
    "print('F1 Score \\t{:.3f}'.format(metrics.f1_score(y_test, y_pred, average='weighted')))"
   ]
  },
  {
   "cell_type": "markdown",
   "id": "30d80c3a-c065-4549-9bd9-372d24eb46ed",
   "metadata": {},
   "source": [
    "#### XGboost"
   ]
  },
  {
   "cell_type": "code",
   "execution_count": 1179,
   "id": "12156138-8d60-45db-afcd-321275c003b3",
   "metadata": {},
   "outputs": [],
   "source": [
    "xgb_model = xgb.XGBClassifier(max_depth=50, n_estimators=80, learning_rate=0.1, colsample_bytree=.7, gamma=0, reg_alpha=4).fit(X_train, y_train)"
   ]
  },
  {
   "cell_type": "code",
   "execution_count": 1180,
   "id": "a9fff180-58de-4163-884b-a56c7b15eb0c",
   "metadata": {},
   "outputs": [
    {
     "name": "stdout",
     "output_type": "stream",
     "text": [
      "XGBoost's prediction accuracy is: 100.00\n",
      "Accuracy \t1.000\n",
      "Recall \t\t1.000\n",
      "Precision \t1.000\n",
      "F1 Score \t1.000\n"
     ]
    }
   ],
   "source": [
    "preds = xgb_model.predict(X_test)\n",
    "acc_xgb = (preds == y_test).sum().astype(float) / len(preds)*100\n",
    "acc_xgb_proba = xgb_model.predict_proba(X_test)\n",
    "C = confusion_matrix(y_test, preds)\n",
    "\n",
    "\n",
    "print(\"XGBoost's prediction accuracy is: %3.2f\" % (acc_xgb))\n",
    "print(\"Accuracy \\t{:.3f}\".format(metrics.accuracy_score(y_test, preds)))\n",
    "print('Recall \\t\\t{:.3f}'.format(metrics.recall_score(y_test, preds, average='weighted')))\n",
    "print('Precision \\t{:.3f}'.format(metrics.precision_score(y_test, preds, average='weighted')))\n",
    "print('F1 Score \\t{:.3f}'.format(metrics.f1_score(y_test, preds, average='weighted')))\n"
   ]
  },
  {
   "cell_type": "code",
   "execution_count": 588,
   "id": "5558528c-4811-40a3-9d34-cad1d100c088",
   "metadata": {},
   "outputs": [],
   "source": [
    "from matplotlib import pyplot"
   ]
  },
  {
   "cell_type": "code",
   "execution_count": 1185,
   "id": "299d5272-84c3-4cfd-8997-027dcbd09e1e",
   "metadata": {},
   "outputs": [
    {
     "name": "stdout",
     "output_type": "stream",
     "text": [
      ">1, train: 0.042, test: 0.041\n",
      ">2, train: 0.082, test: 0.082\n",
      ">3, train: 0.150, test: 0.150\n",
      ">4, train: 0.266, test: 0.264\n",
      ">5, train: 0.413, test: 0.411\n",
      ">6, train: 0.565, test: 0.559\n",
      ">7, train: 0.703, test: 0.700\n",
      ">8, train: 0.796, test: 0.794\n",
      ">9, train: 0.868, test: 0.866\n",
      ">10, train: 0.919, test: 0.917\n",
      ">11, train: 0.946, test: 0.945\n"
     ]
    },
    {
     "data": {
      "image/png": "[encoded data removed]",
      "text/plain": [
       "<Figure size 640x480 with 1 Axes>"
      ]
     },
     "metadata": {},
     "output_type": "display_data"
    }
   ],
   "source": [
    "# define lists to collect scores\n",
    "train_scores, test_scores = list(), list()\n",
    "# define the tree depths to evaluate\n",
    "values = [i for i in range(1, 12)]\n",
    "# evaluate a decision tree for each depth\n",
    "for i in values:\n",
    "    # configure the model\n",
    "    model = DecisionTreeClassifier(max_depth=i)\n",
    "    # fit model on the training dataset\n",
    "    model.fit(X_train, y_train)\n",
    "    # evaluate on the train dataset\n",
    "    train_yhat = model.predict(X_train)\n",
    "    train_acc = accuracy_score(y_train, train_yhat)\n",
    "    train_scores.append(train_acc)\n",
    "    # evaluate on the test dataset\n",
    "    test_yhat = model.predict(X_test)\n",
    "    test_acc = accuracy_score(y_test, test_yhat)\n",
    "    test_scores.append(test_acc)\n",
    "    # summarize progress\n",
    "    print('>%d, train: %.3f, test: %.3f' % (i, train_acc, test_acc))\n",
    "    \n",
    "# plot of train and test scores vs tree depth\n",
    "pyplot.plot(values, train_scores, '-o', label='Train')\n",
    "pyplot.plot(values, test_scores, '-o', label='Test')\n",
    "pyplot.legend()\n",
    "pyplot.show()"
   ]
  },
  {
   "cell_type": "code",
   "execution_count": 1190,
   "id": "48fe7c43-34e8-4dc2-8169-d47755b0b0c9",
   "metadata": {},
   "outputs": [
    {
     "name": "stdout",
     "output_type": "stream",
     "text": [
      "CONVERTING: chords_test/Gn_minor/G minor 4.m4a\n",
      "CONVERTING: chords_test/Gn_minor/G minor 5.m4a\n",
      "CONVERTING: chords_test/Bf_minor/B Flat Minor 4.m4a\n",
      "CONVERTING: chords_test/Bf_minor/B Flat Minor 3.m4a\n",
      "CONVERTING: chords_test/En_minor/E minor 3.m4a\n",
      "CONVERTING: chords_test/En_minor/E minor 4.m4a\n",
      "CONVERTING: chords_test/Fn_minor/F minor 4.m4a\n",
      "CONVERTING: chords_test/Fn_minor/F minor 3.m4a\n",
      "CONVERTING: chords_test/Af_minor/A Flat Minor 4.m4a\n",
      "CONVERTING: chords_test/Af_minor/A Flat Minor 3.m4a\n",
      "CONVERTING: chords_test/Bn_minor/B minor 4.m4a\n",
      "CONVERTING: chords_test/Bn_minor/B minor 3.m4a\n"
     ]
    }
   ],
   "source": [
    "from pydub import AudioSegment\n",
    "\n",
    "formats_to_convert = ['.m4a']\n",
    "\n",
    "for (dirpath, dirnames, filenames) in os.walk(\"chords_test/\"):\n",
    "    for filename in filenames:\n",
    "        if filename.endswith(tuple(formats_to_convert)):\n",
    "\n",
    "            filepath = dirpath + '/' + filename\n",
    "            (path, file_extension) = os.path.splitext(filepath)\n",
    "            file_extension_final = file_extension.replace('.', '')\n",
    "            try:\n",
    "                track = AudioSegment.from_file(filepath,\n",
    "                        file_extension_final)\n",
    "                wav_filename = filename.replace(file_extension_final, 'wav')\n",
    "                wav_path = dirpath + '/' + wav_filename\n",
    "                print('CONVERTING: ' + str(filepath))\n",
    "                file_handle = track.export(wav_path, format='wav')\n",
    "                os.remove(filepath)\n",
    "            except:\n",
    "                print(\"ERROR CONVERTING \" + str(filepath))"
   ]
  },
  {
   "cell_type": "code",
   "execution_count": 1196,
   "id": "d8f9ad3d-1ccb-4841-99f6-589a36ca2af0",
   "metadata": {},
   "outputs": [
    {
     "name": "stdout",
     "output_type": "stream",
     "text": [
      "{0: 'Af_a', 1: 'Af_d', 2: 'Af_j', 3: 'Af_n', 4: 'An_a', 5: 'An_d', 6: 'An_j', 7: 'An_n', 8: 'Bf_a', 9: 'Bf_d', 10: 'Bf_j', 11: 'Bf_n', 12: 'Bn_a', 13: 'Bn_d', 14: 'Bn_j', 15: 'Bn_n', 16: 'Cn_a', 17: 'Cn_d', 18: 'Cn_j', 19: 'Cn_n', 20: 'Df_a', 21: 'Df_d', 22: 'Df_j', 23: 'Df_n', 24: 'Dn_a', 25: 'Dn_d', 26: 'Dn_j', 27: 'Dn_n', 28: 'Ef_a', 29: 'Ef_d', 30: 'Ef_j', 31: 'Ef_n', 32: 'En_a', 33: 'En_d', 34: 'En_j', 35: 'En_n', 36: 'Fn_a', 37: 'Fn_d', 38: 'Fn_j', 39: 'Fn_n', 40: 'Gf_a', 41: 'Gf_d', 42: 'Gf_j', 43: 'Gf_n', 44: 'Gn_a', 45: 'Gn_d', 46: 'Gn_j', 47: 'Gn_n'}\n",
      "The test chord is ./chords_test/Gn_minor/G minor 5. Predicted: En_d\n",
      "The test chord is ./chords_test/Gn_minor/G minor 4. Predicted: Gn_n\n",
      "The test chord is ./chords_test/Fn_major/F major 4 noise. Predicted: Df_a\n",
      "The test chord is ./chords_test/Fn_major/F major 4 noise low. Predicted: Df_a\n",
      "The test chord is ./chords_test/Fn_major/F major 3. Predicted: Df_a\n",
      "The test chord is ./chords_test/Df_aug/D flat aug. Predicted: Df_a\n",
      "The test chord is ./chords_test/Dn_major/D major 4. Predicted: Dn_j\n",
      "The test chord is ./chords_test/Dn_major/D major 3. Predicted: Dn_a\n",
      "The test chord is ./chords_test/Dn_major/D major 4 noisy. Predicted: Dn_a\n",
      "The test chord is ./chords_test/Bf_minor/B Flat Minor 3. Predicted: Bf_n\n",
      "The test chord is ./chords_test/Bf_minor/B Flat Minor 4. Predicted: Bf_n\n",
      "The test chord is ./chords_test/En_minor/E minor 4. Predicted: En_n\n",
      "The test chord is ./chords_test/En_minor/E minor 3. Predicted: Ef_a\n",
      "The test chord is ./chords_test/Fn_minor/F minor 3. Predicted: Df_a\n",
      "The test chord is ./chords_test/Fn_minor/F minor 4. Predicted: Df_a\n",
      "The test chord is ./chords_test/Af_minor/A Flat Minor 3. Predicted: Af_n\n",
      "The test chord is ./chords_test/Af_minor/A Flat Minor 4. Predicted: Af_n\n",
      "The test chord is ./chords_test/Dn_minor/D minor 4. Predicted: Dn_n\n",
      "The test chord is ./chords_test/An_major/A major 4. Predicted: Df_n\n",
      "The test chord is ./chords_test/Cn_major/C major 4 violin. Predicted: Cn_j\n",
      "The test chord is ./chords_test/Cn_major/C major 4 organ. Predicted: Cn_j\n",
      "The test chord is ./chords_test/Cn_major/C major 2. Predicted: Ef_a\n",
      "The test chord is ./chords_test/Cn_major/C major 4 noisy. Predicted: Cn_a\n",
      "The test chord is ./chords_test/Bn_minor/B minor 3. Predicted: Af_d\n",
      "The test chord is ./chords_test/Bn_minor/B minor 4. Predicted: Bn_n\n"
     ]
    }
   ],
   "source": [
    "chroma_all = []\n",
    "mfcc_all = [] \n",
    "\n",
    "test_dir = './chords_test/'\n",
    "test_files = ['D major 4.m4a',\n",
    "              'D major 4.m4a',\n",
    "              'C major 4.m4a',\n",
    "              'A major 4.m4a',\n",
    "              'D major 3.m4a',\n",
    "              'D flat aug.m4a']\n",
    "\n",
    "test_files = glob.glob('./chords_test/**/*.wav', recursive=True)\n",
    "\n",
    "le_name_mapping = dict(zip(labelencoder.transform(labelencoder.classes_), labelencoder.classes_,))\n",
    "print(le_name_mapping)\n",
    "\n",
    "for test_file in test_files:\n",
    "    mfcc_all = []\n",
    "    chroma_all = []\n",
    "    \n",
    "    df_feat = pd.DataFrame()\n",
    "    signal, sr = librosa.load(test_file)\n",
    "\n",
    "    # generate the chroma\n",
    "    S = np.abs(librosa.stft(signal))\n",
    "    chroma = librosa.feature.chroma_stft(S=S, sr=sr)\n",
    "    chroma_avg = np.average(chroma, axis=1)\n",
    "    chroma_all.append(chroma_avg)\n",
    "    df_chroma = pd.DataFrame(chroma_all, columns=chroma_cols)\n",
    "    # df_feat = df_chroma\n",
    "\n",
    "    # generate the MFCC\n",
    "    mfcc = librosa.feature.mfcc(y=signal, sr=sr, n_mfcc=n_mfcc)\n",
    "    mfcc_avg = np.average(mfcc, axis=1)\n",
    "    mfcc_all.append(mfcc_avg)\n",
    "    df_mfcc = pd.DataFrame(mfcc_all, columns=mfcc_cols)\n",
    "    df_mfcc[mfcc_cols] = scaler.transform(df_mfcc[mfcc_cols])\n",
    "    # df_feat = df_mfcc\n",
    "\n",
    "    df_feat = pd.concat([df_chroma, df_mfcc], axis=1)\n",
    "    y_pred = xgb_model.predict(df_feat)\n",
    "\n",
    "    print(f'The test chord is {test_file[:-4]}. Predicted: {le_name_mapping[y_pred[0]]}')"
   ]
  },
  {
   "cell_type": "code",
   "execution_count": 1105,
   "id": "0c0f2c47-6e7d-4064-8a55-aa5a7ffe7e2d",
   "metadata": {},
   "outputs": [],
   "source": []
  },
  {
   "cell_type": "code",
   "execution_count": null,
   "id": "81ddd70d-37bb-4428-8744-b521b6ed388f",
   "metadata": {},
   "outputs": [],
   "source": [
    "from sklearn.preprocessing import FunctionTransformer\n",
    "\n",
    "def create_mfcc(file_path):\n",
    "    n_mfcc=128\n",
    "    \n",
    "    # create column names based on number of MFCC\n",
    "    mfcc_cols = [\"mfcc_\" + str(i) for i in range(n_mfcc)]\n",
    "    \n",
    "    # import the audio file\n",
    "    signal, sr = librosa.load(file_path)\n",
    "    \n",
    "    mfcc = librosa.feature.mfcc(y=signal, sr=sr, n_mfcc=n_mfcc)\n",
    "    mfcc = librosa.amplitude_to_db(mfcc, ref=np.max)\n",
    "    mfcc_avg = np.average(mfcc, axis=1)\n",
    "    \n",
    "    df = pd.DataFrame(mfcc_avg, columns=mfcc_cols)\n",
    "    \n",
    "    return df"
   ]
  },
  {
   "cell_type": "code",
   "execution_count": null,
   "id": "423cb556-caf7-4f35-b90f-3b79e7dfcea5",
   "metadata": {},
   "outputs": [],
   "source": [
    "numeric_transform = Pipeline([('scaling', StandardScaler())])"
   ]
  },
  {
   "cell_type": "code",
   "execution_count": null,
   "id": "97391c02-2fc5-4e5f-b540-8ce4ef220857",
   "metadata": {},
   "outputs": [],
   "source": [
    "preprocessing = ColumnTransformer([ ('numeric', numeric_transform, mfcc_cols)])"
   ]
  },
  {
   "cell_type": "code",
   "execution_count": null,
   "id": "4409610e-695c-4e95-920d-fad0e4bb9490",
   "metadata": {},
   "outputs": [],
   "source": [
    "create_cols = FunctionTransformer(create_mfcc, kw_args={'file_path' : audio_file})"
   ]
  },
  {
   "cell_type": "code",
   "execution_count": null,
   "id": "0f98edc5-6400-4663-a7ee-a8e1798e909a",
   "metadata": {},
   "outputs": [],
   "source": [
    "# Pipeline Steps - Most Important\n",
    "pipeline = Pipeline(steps=[('create-mfcc', create_mfcc),\n",
    "                           ('preprocessing', preprocessing),\n",
    "                           ('features', feature_union),\n",
    "                           ('classifier', RidgeClassifier())])"
   ]
  },
  {
   "cell_type": "code",
   "execution_count": null,
   "id": "9ea93c67-f148-4ce6-b6e8-4d6a173ddaf6",
   "metadata": {},
   "outputs": [],
   "source": []
  },
  {
   "cell_type": "code",
   "execution_count": null,
   "id": "e2a29bdd-6aec-4835-94cd-a365b667cc8d",
   "metadata": {},
   "outputs": [],
   "source": []
  },
  {
   "cell_type": "code",
   "execution_count": null,
   "id": "4c9818c3-23e2-4547-bfff-73320e01baa7",
   "metadata": {},
   "outputs": [],
   "source": []
  },
  {
   "cell_type": "code",
   "execution_count": null,
   "id": "38b01bcb-104f-4058-bb3e-57ea8c1f5c6d",
   "metadata": {},
   "outputs": [],
   "source": []
  },
  {
   "cell_type": "code",
   "execution_count": null,
   "id": "6c7faa0b-5ae6-4d05-9221-a9b294e0457a",
   "metadata": {},
   "outputs": [],
   "source": []
  },
  {
   "cell_type": "markdown",
   "id": "d8317d83-ea97-4eb3-9016-36ea6109de6f",
   "metadata": {},
   "source": [
    "#### Random Forest"
   ]
  },
  {
   "cell_type": "code",
   "execution_count": null,
   "id": "e985a124-e78c-48a7-b536-28a23c626926",
   "metadata": {},
   "outputs": [],
   "source": [
    "### random forest\n",
    "\n",
    "from sklearn.model_selection import RandomizedSearchCV as RSCV\n",
    "\n",
    "param_grid = {'n_estimators' : np.arange(50 ,100, 25),\n",
    "              'max_features' : np.arange(0.1, 1, 0.1),\n",
    "              'max_depth': [3, 5, 7, 9],\n",
    "              'max_samples': [0.3, 0.5, 0.8]}\n",
    "\n",
    "rfc_model = RSCV(rfc(class_weight='balanced'), param_grid, n_iter = 15).fit(X_train, y_train)\n",
    "rfc_model = rfc_model.best_estimator_\n",
    "\n",
    "#RandomForestClassifier"
   ]
  },
  {
   "cell_type": "code",
   "execution_count": null,
   "id": "ee681c79-7005-48c2-8419-21cce07ff3ec",
   "metadata": {},
   "outputs": [
    {
     "name": "stdout",
     "output_type": "stream",
     "text": [
      "Parameters:  <function ClassifierMixin.score at 0x12daf09d0>\n",
      "Accuracy \t1.000\n",
      "Recall \t\t1.000\n",
      "Precision \t1.000\n",
      "F1 Score \t1.000\n",
      "AUC Score \t1.000 \n"
     ]
    }
   ],
   "source": [
    "y_rfc = rfc_model.predict(X_test)\n",
    "y_rfc_proba = rfc_model.predict_proba(X_test)\n",
    "print(\"Parameters: \",rfc.score)\n",
    "print(\"Accuracy \\t{:.3f}\".format(metrics.accuracy_score(y_test, y_rfc)))\n",
    "print('Recall \\t\\t{:.3f}'.format(metrics.recall_score(y_test, y_rfc, average='weighted')))\n",
    "print('Precision \\t{:.3f}'.format(metrics.precision_score(y_test, y_rfc, average='weighted')))\n",
    "print('F1 Score \\t{:.3f}'.format(metrics.f1_score(y_test, y_rfc, average='weighted')))\n",
    "print('AUC Score \\t{:.3f} '.format(metrics.roc_auc_score(y_test, y_rfc_proba, multi_class='ovo')))"
   ]
  },
  {
   "cell_type": "code",
   "execution_count": null,
   "id": "e9fcba6f-5658-40a6-b9ff-39a307204cda",
   "metadata": {},
   "outputs": [
    {
     "name": "stdout",
     "output_type": "stream",
     "text": [
      "Training Accuracy scores: {results['train_accuracy']}\n"
     ]
    }
   ],
   "source": [
    "# K-Fold Cross-Validation\n",
    "from sklearn.model_selection import cross_validate\n",
    "\n",
    "_cv =  5\n",
    "_scoring = ['accuracy', 'precision', 'recall', 'f1']\n",
    "results = cross_validate(estimator=xgb_model,\n",
    "                       X=X_train,\n",
    "                       y=y_train,\n",
    "                       cv=_cv,\n",
    "                       scoring=_scoring,\n",
    "                       return_train_score=True)\n",
    "\n",
    "print(r\"Training Accuracy scores: {results['train_accuracy']}\")\n",
    "      # \"Mean Training Accuracy\": results['train_accuracy'].mean()*100,\n",
    "      # \"Training Precision scores\": results['train_precision'],\n",
    "      # \"Mean Training Precision\": results['train_precision'].mean(),\n",
    "      # \"Training Recall scores\": results['train_recall'],\n",
    "      # \"Mean Training Recall\": results['train_recall'].mean(),\n",
    "      # \"Training F1 scores\": results['train_f1'],\n",
    "      # \"Mean Training F1 Score\": results['train_f1'].mean(),\n",
    "      # \"Validation Accuracy scores\": results['test_accuracy'],\n",
    "      # \"Mean Validation Accuracy\": results['test_accuracy'].mean()*100,\n",
    "      # \"Validation Precision scores\": results['test_precision'],\n",
    "      # \"Mean Validation Precision\": results['test_precision'].mean(),\n",
    "      # \"Validation Recall scores\": results['test_recall'],\n",
    "      # \"Mean Validation Recall\": results['test_recall'].mean(),\n",
    "      # \"Validation F1 scores\": results['test_f1'],\n",
    "      # \"Mean Validation F1 Score\": results['test_f1'].mean()\n",
    "      # }"
   ]
  },
  {
   "cell_type": "code",
   "execution_count": null,
   "id": "df68510f-a4fc-4cae-8aa9-2afa65ba66e1",
   "metadata": {},
   "outputs": [
    {
     "data": {
      "text/plain": [
       "array([3])"
      ]
     },
     "execution_count": 93,
     "metadata": {},
     "output_type": "execute_result"
    }
   ],
   "source": [
    "y_pred = rfc_model.predict(df_chroma)\n",
    "y_pred"
   ]
  },
  {
   "cell_type": "markdown",
   "id": "48950ca7-f8b9-443a-89d3-0b360beae46a",
   "metadata": {},
   "source": [
    "#### Confusion Matrix"
   ]
  },
  {
   "cell_type": "code",
   "execution_count": 222,
   "id": "9fdb3422-3580-44fe-b755-7452c1e5efd8",
   "metadata": {},
   "outputs": [],
   "source": [
    "# from sklearn.metrics import confusion_matrix, ConfusionMatrixDisplay\n",
    "\n",
    "# # C = confusion_matrix(y_test, preds)\n",
    "# # plt.figure(figsize=(10, 8))\n",
    "# # sns.heatmap(C, xticklabels=df_chroma, yticklabels=df_chroma, \n",
    "# #             annot=True, fmt='g')\n",
    "# # plt.xlabel('Prediction')\n",
    "# # plt.ylabel('Label')\n",
    "\n",
    "# # disp.plot()\n",
    "# # plt.show()\n",
    "\n",
    "\n",
    "# # disp = ConfusionMatrixDisplay(confusion_matrix=cm, display_labels=df_chroma.classes_)\n",
    "# # disp.plot()\n",
    "# # plt.show()\n"
   ]
  },
  {
   "cell_type": "markdown",
   "id": "edf7e1bb-5b01-47bb-9765-a8ea5fc0dae7",
   "metadata": {},
   "source": [
    "## Feature Engineering"
   ]
  },
  {
   "cell_type": "markdown",
   "id": "46010481-7e07-4e10-a66b-30acb870b0c3",
   "metadata": {},
   "source": [
    "1. Spectral features: The frequency spectrum of the chord can be analyzed to extract information such as the power in different frequency bands, the harmonic peaks, and the spectral centroid.\n",
    "\n",
    "2. Timbre features: Timbre is the quality of a sound that allows us to differentiate between different instruments or sounds that have the same pitch and loudness. Features such as MFCCs, Chroma and Tonnetz are commonly used to describe the timbre of the chord.\n",
    "\n",
    "3. Pitch features: Pitch is the perceived fundamental frequency of a sound. Pitch information such as fundamental frequency, and harmonic peaks can be used to extract the notes that compose the chord."
   ]
  },
  {
   "cell_type": "code",
   "execution_count": null,
   "id": "4eecefcb-83b2-47cb-833a-64187a28db98",
   "metadata": {},
   "outputs": [],
   "source": []
  },
  {
   "cell_type": "code",
   "execution_count": null,
   "id": "81f275b4-e3b2-4233-8946-81381a8e4cdd",
   "metadata": {},
   "outputs": [],
   "source": []
  },
  {
   "cell_type": "code",
   "execution_count": null,
   "id": "656fcbde-1644-4257-bd9f-c9f3971bb5bf",
   "metadata": {},
   "outputs": [],
   "source": []
  },
  {
   "cell_type": "code",
   "execution_count": null,
   "id": "8aa8ae2a-2ded-44d7-9af5-99a06be3e4ec",
   "metadata": {},
   "outputs": [],
   "source": []
  },
  {
   "cell_type": "markdown",
   "id": "fa27cd8b-fbe9-400d-a264-ce8bff8009bb",
   "metadata": {},
   "source": [
    "### Fundamental Frequency and Harmonics "
   ]
  },
  {
   "cell_type": "markdown",
   "id": "671ccf08-bd24-4fb5-8b81-4a255f8a9966",
   "metadata": {},
   "source": [
    "Harmonics are the overtones of a sound, they are the additional frequencies that are present in a sound along with the fundamental frequency. In the case of a piano chord, harmonics are the additional notes that are present in the chord along with the fundamental notes.\n",
    "\n",
    "In a piano chord, each note is composed of multiple harmonics, these harmonics are integer multiples of the fundamental frequency. The fundamental frequency is the lowest frequency present in the chord and is often referred to as the first harmonic. The next highest frequency present in the chord is known as the second harmonic and is twice the frequency of the fundamental, and so on.\n",
    "\n",
    "For example, if the fundamental frequency of a chord is C4 (261.63 Hz), the second harmonic will be at 523.25 Hz (2261.63), the third harmonic will be at 784.88 (3261.63) and so on.\n",
    "\n",
    "When all the harmonics of the fundamental frequency are present, the sound is perceived as being rich and complex. Each harmonic adds its own unique character to the overall sound of the chord.\n",
    "\n",
    "It's important to note that each piano key produce a different set of harmonics, so the harmonics of a chord will depend on the notes present in the chord."
   ]
  },
  {
   "cell_type": "code",
   "execution_count": null,
   "id": "b7de41e2-40df-41e4-a776-00975a931d2a",
   "metadata": {},
   "outputs": [],
   "source": [
    "# h: height threshold. I defined as %5 of max value\n",
    "h = signal_f_onesided.max()*5/100\n",
    "peaks, _ = find_peaks(signal_f_onesided, distance=10, height = h)\n",
    "\n",
    "freq_50_index = np.abs(y_freq - 50).argmin() # finding index for 50 Hz\n",
    "peaks = peaks[peaks>freq_50_index] # filtering out peaks less than 50 Hz\n",
    "harmonics = y_freq[peaks]\n",
    "print(\"Harmonics: {}\".format(np.round(harmonics)))\n",
    "\n",
    "# Plot\n",
    "i = peaks.max() + 100\n",
    "plt.plot(y_freq[:i], signal_f_onesided[:i])\n",
    "plt.plot(y_freq[peaks], signal_f_onesided[peaks], \"x\")\n",
    "plt.xlabel('Frequency [Hz]')\n",
    "plt.show()"
   ]
  },
  {
   "cell_type": "code",
   "execution_count": null,
   "id": "4f05edeb-3efd-4b8d-9a09-3455795ad1a2",
   "metadata": {},
   "outputs": [],
   "source": [
    "# I would like to create a method so that I can use in the next section\n",
    "# The method will read sound file, apply Fourier, find peak frequencies and return\n",
    "# Input: path of the sound file\n",
    "# Output: Frequency peaks\n",
    "# print_peaks = true to plot peaks\n",
    "\n",
    "def find_harmonics(path, print_peaks=False):\n",
    "    fs, X = wavfile.read(path)\n",
    "    N = len(X)\n",
    "    X_F = fft(X)\n",
    "    X_F_onesided = 2.0/N * np.abs(X_F[0:N//2])\n",
    "    freqs = fftfreq(N, 1/fs)[:N//2]\n",
    "    freqs_50_index = np.abs(freqs - 50).argmin()\n",
    "    \n",
    "    h = X_F_onesided.max()*5/100\n",
    "    peaks, _ = find_peaks(X_F_onesided, distance=10, height = h)\n",
    "    peaks = peaks[peaks>freqs_50_index]\n",
    "    harmonics = np.round(freqs[peaks],2)\n",
    "    \n",
    "    if print_peaks:\n",
    "        i = peaks.max() + 100\n",
    "        plt.plot(freqs[:i], X_F_onesided[:i])\n",
    "        plt.plot(freqs[peaks], X_F_onesided[peaks], \"x\")\n",
    "        plt.xlabel('Frequency [Hz]')\n",
    "        plt.show()\n",
    "    return harmonics"
   ]
  },
  {
   "cell_type": "code",
   "execution_count": null,
   "id": "d856a4da-caca-4b79-8928-5c3fbe387dba",
   "metadata": {},
   "outputs": [],
   "source": []
  },
  {
   "cell_type": "markdown",
   "id": "04f63ca4-e1a2-49fb-ac8e-4729079b8ba3",
   "metadata": {},
   "source": [
    "----"
   ]
  },
  {
   "cell_type": "markdown",
   "id": "49e65672-deed-41e4-b39c-c15af87fa066",
   "metadata": {},
   "source": [
    "-----"
   ]
  },
  {
   "cell_type": "markdown",
   "id": "f4f947ef-fd71-4e8a-9601-caa9075c347e",
   "metadata": {},
   "source": [
    "## Other Features\n",
    "- chromagram (chroma stft)\n",
    "\n",
    "- zero crossing rate (measure noisiness)\n",
    "- RMS (root mean square) (indicate loudness)\n",
    "- signal processing (time-frequency transformation)\n",
    "- Fourier Transform (FFT or FT or short-time Fourier transform (stft)?)\n",
    "- spectra (magnitude spectrum / power spectrum) --> spectral bandwidth????\n",
    "- spectral features (spectral centroid, spectral runoff)\n",
    "- MPEG7 Features (low level, high level descriptors)\n",
    "- Mel spectrogram (MFCCs) (good timbre feature)\n",
    "\n",
    "\n",
    "\n"
   ]
  },
  {
   "cell_type": "code",
   "execution_count": 263,
   "id": "f1631aab-d5c4-4238-afc0-81e3819df808",
   "metadata": {},
   "outputs": [
    {
     "name": "stdout",
     "output_type": "stream",
     "text": [
      "(174,)\n"
     ]
    }
   ],
   "source": [
    "import sklearn\n",
    "spectral_centroids = librosa.feature.spectral_centroid(signal, sr=sr)[0]\n",
    "print(spectral_centroids.shape)\n"
   ]
  },
  {
   "cell_type": "code",
   "execution_count": 262,
   "id": "dec0bbc3-7e1a-4778-b799-36a0f1c1a61d",
   "metadata": {},
   "outputs": [
    {
     "data": {
      "text/plain": [
       "[<matplotlib.lines.Line2D at 0x168d6ad30>]"
      ]
     },
     "execution_count": 262,
     "metadata": {},
     "output_type": "execute_result"
    },
    {
     "data": {
      "image/png": "[encoded data removed]",
      "text/plain": [
       "<Figure size 640x480 with 1 Axes>"
      ]
     },
     "metadata": {},
     "output_type": "display_data"
    }
   ],
   "source": [
    "# spectral centroid -- centre of mass -- weighted mean of the frequencies present in the sound\n",
    "\n",
    "# Computing the time variable for visualization\n",
    "frames = range(len(spectral_centroids))\n",
    "t = librosa.frames_to_time(frames)\n",
    "\n",
    "# Normalising the spectral centroid for visualisation\n",
    "\n",
    "def normalize(x, axis=0):\n",
    "    return sklearn.preprocessing.minmax_scale(x, axis=axis)\n",
    "\n",
    "#Plotting the Spectral Centroid along the waveform\n",
    "librosa.display.waveshow(signal, sr=sr, alpha=0.4)\n",
    "plt.plot(t, normalize(spectral_centroids), color='r')"
   ]
  },
  {
   "cell_type": "code",
   "execution_count": 264,
   "id": "30b9c082-df9c-4e7e-9b26-14ac8b8abdc6",
   "metadata": {},
   "outputs": [
    {
     "ename": "NameError",
     "evalue": "name 'x' is not defined",
     "output_type": "error",
     "traceback": [
      "\u001b[0;31m---------------------------------------------------------------------------\u001b[0m",
      "\u001b[0;31mNameError\u001b[0m                                 Traceback (most recent call last)",
      "Cell \u001b[0;32mIn[264], line 4\u001b[0m\n\u001b[1;32m      1\u001b[0m \u001b[38;5;66;03m## spectral rolloff\u001b[39;00m\n\u001b[1;32m      3\u001b[0m plt\u001b[38;5;241m.\u001b[39mfigure(figsize\u001b[38;5;241m=\u001b[39m(\u001b[38;5;241m20\u001b[39m,\u001b[38;5;241m5\u001b[39m))\n\u001b[0;32m----> 4\u001b[0m spectral_rolloff \u001b[38;5;241m=\u001b[39m librosa\u001b[38;5;241m.\u001b[39mfeature\u001b[38;5;241m.\u001b[39mspectral_rolloff(\u001b[43mx\u001b[49m\u001b[38;5;241m+\u001b[39m\u001b[38;5;241m0.01\u001b[39m, sr\u001b[38;5;241m=\u001b[39msr)[\u001b[38;5;241m0\u001b[39m]\n\u001b[1;32m      5\u001b[0m librosa\u001b[38;5;241m.\u001b[39mdisplay\u001b[38;5;241m.\u001b[39mwaveplot(x, sr\u001b[38;5;241m=\u001b[39msr, alpha\u001b[38;5;241m=\u001b[39m\u001b[38;5;241m0.4\u001b[39m)\n\u001b[1;32m      6\u001b[0m plt\u001b[38;5;241m.\u001b[39mplot(t, normalize(spectral_rolloff), color\u001b[38;5;241m=\u001b[39m\u001b[38;5;124m'\u001b[39m\u001b[38;5;124mr\u001b[39m\u001b[38;5;124m'\u001b[39m)\n",
      "\u001b[0;31mNameError\u001b[0m: name 'x' is not defined"
     ]
    },
    {
     "data": {
      "text/plain": [
       "<Figure size 2000x500 with 0 Axes>"
      ]
     },
     "metadata": {},
     "output_type": "display_data"
    }
   ],
   "source": [
    "## spectral rolloff\n",
    "\n",
    "plt.figure(figsize=(20,5))\n",
    "spectral_rolloff = librosa.feature.spectral_rolloff(x+0.01, sr=sr)[0]\n",
    "librosa.display.waveplot(x, sr=sr, alpha=0.4)\n",
    "plt.plot(t, normalize(spectral_rolloff), color='r')\n",
    "plt.grid()"
   ]
  },
  {
   "cell_type": "code",
   "execution_count": null,
   "id": "13f1684e-e6f4-4241-8ecf-7199e428d8b9",
   "metadata": {},
   "outputs": [],
   "source": []
  },
  {
   "cell_type": "code",
   "execution_count": null,
   "id": "42a6f764-bed1-42e3-a937-de034f8592b8",
   "metadata": {},
   "outputs": [],
   "source": []
  },
  {
   "cell_type": "code",
   "execution_count": null,
   "id": "2cd168da-bf0d-4f32-97ce-e0b9b771d098",
   "metadata": {},
   "outputs": [],
   "source": []
  },
  {
   "cell_type": "markdown",
   "id": "97aec9c8-6119-47f4-960f-e8e84d049264",
   "metadata": {},
   "source": [
    "## 1D CNN\n",
    "In 1D CNN, kernel moves in 1 direction. Input and output data of 1D CNN is 2 dimensional. Mostly used on Time-Series data.\n",
    "\n",
    "\n",
    "\n",
    "https://towardsdatascience.com/cnns-for-audio-classification-6244954665ab\n",
    "- extract features which look like images and shape them in a way in order to feed them into a CNN\n",
    "Note:\n",
    "- The CNN is expecting an image: a grayscale image (1 channel), a color image with three channels: red, green and blue (RGB)\n",
    "- need to make your audio features look like an image:\n",
    "1. Choose either 1D for a grayscale image (one feature) or 3D for a color image (to represent multiple features).\n",
    "2. Scale and pad the audio features so that every “channel” is the same size.\n",
    "\n",
    "\n",
    "https://12ft.io/proxy?q=https%3A%2F%2Fmedium.com%2Fx8-the-ai-community%2Faudio-classification-using-cnn-coding-example-f9cbd272269e\n",
    "\n",
    "\n",
    "\n",
    "https://deepai.org/publication/end-to-end-environmental-sound-classification-using-a-1d-convolutional-neural-network\n",
    "End-to-End Environmental Sound Classification using a 1D Convolutional Neural Network (paper)\n"
   ]
  },
  {
   "cell_type": "code",
   "execution_count": 225,
   "id": "40501452-01a6-4d05-afbe-d8870e5791b3",
   "metadata": {},
   "outputs": [],
   "source": [
    "from sklearn.model_selection import train_test_split\n",
    "import tensorflow as tf\n",
    "from tensorflow.keras import models, layers\n",
    "from keras.models import Model\n",
    "from keras.layers import Input, Conv1D, MaxPooling1D, Flatten, Dense"
   ]
  },
  {
   "cell_type": "code",
   "execution_count": 266,
   "id": "df1dd028-7660-4cc3-bb9c-5231e8b54221",
   "metadata": {},
   "outputs": [],
   "source": [
    "# def create_model(input_shape):\n",
    "#     # Input layer\n",
    "#     input_tensor = Input(shape=input_shape)\n",
    "    \n",
    "#     # Convolutional layer\n",
    "#     x = Conv1D(32, kernel_size=3, activation='relu')(input_tensor)\n",
    "    \n",
    "#     # Max pooling layer\n",
    "#     x = MaxPooling1D(pool_size=2)(x)\n",
    "    \n",
    "#     # Flatten layer\n",
    "#     x = Flatten()(x)\n",
    "    \n",
    "#     # Output layer\n",
    "#     output_tensor = Dense(1, activation='sigmoid')(x)\n",
    "    \n",
    "#     # Create the model\n",
    "#     model = Model(input_tensor, output_tensor)\n",
    "    \n",
    "#     return model\n",
    "\n",
    "# def load_audio(filepath):\n",
    "#     # Load the audio file\n",
    "#     y, sr = librosa.load(filepath)\n",
    "    \n",
    "#     # Extract features\n",
    "#     mfccs = librosa.feature.mfcc(y=y, sr=sr)\n",
    "    \n",
    "#     return mfccs\n",
    "\n",
    "# # create the model\n",
    "# input_shape = (20, 13)\n",
    "# model = create_model(input_shape)\n",
    "# model.compile(loss='binary_crossentropy', optimizer='adam', metrics=['accuracy'])\n",
    "\n",
    "# # load audio files\n",
    "# directory = '/path/to/directory'\n",
    "# x_"
   ]
  },
  {
   "cell_type": "code",
   "execution_count": 268,
   "id": "c13d4d6f-d498-4dab-ab8c-254b36619ac7",
   "metadata": {},
   "outputs": [
    {
     "ename": "NameError",
     "evalue": "name 'trainX' is not defined",
     "output_type": "error",
     "traceback": [
      "\u001b[0;31m---------------------------------------------------------------------------\u001b[0m",
      "\u001b[0;31mNameError\u001b[0m                                 Traceback (most recent call last)",
      "Cell \u001b[0;32mIn[268], line 1\u001b[0m\n\u001b[0;32m----> 1\u001b[0m n_timesteps, n_features, n_outputs \u001b[38;5;241m=\u001b[39m \u001b[43mtrainX\u001b[49m\u001b[38;5;241m.\u001b[39mshape[\u001b[38;5;241m1\u001b[39m], trainX\u001b[38;5;241m.\u001b[39mshape[\u001b[38;5;241m2\u001b[39m], trainy\u001b[38;5;241m.\u001b[39mshape[\u001b[38;5;241m1\u001b[39m]\n\u001b[1;32m      3\u001b[0m model \u001b[38;5;241m=\u001b[39m Sequential()\n\u001b[1;32m      4\u001b[0m model\u001b[38;5;241m.\u001b[39madd(Conv1D(filters\u001b[38;5;241m=\u001b[39m\u001b[38;5;241m64\u001b[39m, kernel_size\u001b[38;5;241m=\u001b[39m\u001b[38;5;241m3\u001b[39m, activation\u001b[38;5;241m=\u001b[39m\u001b[38;5;124m'\u001b[39m\u001b[38;5;124mrelu\u001b[39m\u001b[38;5;124m'\u001b[39m, input_shape\u001b[38;5;241m=\u001b[39m(n_timesteps,n_features)))\n",
      "\u001b[0;31mNameError\u001b[0m: name 'trainX' is not defined"
     ]
    }
   ],
   "source": [
    "n_timesteps, n_features, n_outputs = trainX.shape[1], trainX.shape[2], trainy.shape[1]\n",
    "\n",
    "model = Sequential()\n",
    "model.add(Conv1D(filters=64, kernel_size=3, activation='relu', input_shape=(n_timesteps,n_features)))\n",
    "model.add(Conv1D(filters=64, kernel_size=3, activation='relu'))\n",
    "model.add(Dropout(0.5))\n",
    "model.add(MaxPooling1D(pool_size=2))\n",
    "model.add(Flatten())\n",
    "model.add(Dense(100, activation='relu'))\n",
    "model.add(Dense(n_outputs, activation='softmax'))\n",
    "model.compile(loss='categorical_crossentropy', optimizer='adam', metrics=['accuracy'])"
   ]
  },
  {
   "cell_type": "code",
   "execution_count": null,
   "id": "295b60db-118e-4652-9afe-b334fdca50a8",
   "metadata": {},
   "outputs": [],
   "source": []
  },
  {
   "cell_type": "code",
   "execution_count": null,
   "id": "06ebf878-5898-441b-949d-9c3538e3110d",
   "metadata": {},
   "outputs": [],
   "source": []
  },
  {
   "cell_type": "code",
   "execution_count": null,
   "id": "417b58f9-db1f-4505-a62a-4322278f24bb",
   "metadata": {},
   "outputs": [],
   "source": []
  },
  {
   "cell_type": "markdown",
   "id": "9a2489a6-e278-4dcb-8530-21623fe94ac2",
   "metadata": {},
   "source": [
    "## LSTMs"
   ]
  },
  {
   "cell_type": "markdown",
   "id": "b6e36b08-2509-4fdf-b16e-b051d281d32b",
   "metadata": {},
   "source": [
    "https://heartbeat.comet.ml/using-a-keras-long-shortterm-memory-lstm-model-to-predict-stock-prices-a08c9f69aa74\n",
    "\n",
    "1. Sequential for initializing the neural network\n",
    "2. Dense for adding a densely connected neural network layer\n",
    "3. LSTM for adding the Long Short-Term Memory layer\n",
    "4. Dropout for adding dropout layers that prevent overfitting"
   ]
  },
  {
   "cell_type": "code",
   "execution_count": 174,
   "id": "d293991e-1909-49ca-b5ee-8362d6dae823",
   "metadata": {},
   "outputs": [],
   "source": [
    "# Building the LSTM\n",
    "\n",
    "from keras.models import Sequential\n",
    "from keras.layers import Dense\n",
    "from keras.layers import LSTM\n",
    "from keras.layers import Dropout"
   ]
  },
  {
   "cell_type": "markdown",
   "id": "ac25edba-7162-41d8-9eac-83ffb48e589f",
   "metadata": {},
   "source": [
    "https://heartbeat.comet.ml/using-a-keras-long-shortterm-memory-lstm-model-to-predict-stock-prices-a08c9f69aa74\n",
    "\n",
    "We add the LSTM layer and later add a few `Dropout` layers to prevent overfitting. We add the LSTM layer with the following arguments:\n",
    "\n",
    "1. `50 units` which is the dimensionality of the output space\n",
    "2. `return_sequences=True` which determines whether to return the last output in the output sequence, or the full sequence\n",
    "3. `input_shape` as the shape of our training set.\n",
    "\n",
    "When defining the `Dropout` layers, we specify 0.2, meaning that 20% of the layers will be dropped. Thereafter, we add the `Dense` layer that specifies the output of 1 unit. \n",
    "\n",
    "After this, we compile our model using the popular Adam optimizer and set the loss as the `mean_squared_error`. \n",
    "\n",
    "This will compute the mean of the squared errors. Next, we fit the model to run on 100 epochs with a batch size of 32. Keep in mind that, depending on the specs of your computer, this might take a few minutes to finish running."
   ]
  },
  {
   "cell_type": "code",
   "execution_count": null,
   "id": "e651d5e2-7b56-43bb-93cb-9d0d76e8198d",
   "metadata": {},
   "outputs": [],
   "source": [
    "model = Sequential()\n",
    "\n",
    "model.add(LSTM(units = 50, return_sequences = True, input_shape = (X_train.shape[1], 1)))\n",
    "model.add(Dropout(0.2))\n",
    "\n",
    "model.add(LSTM(units = 50, return_sequences = True))\n",
    "model.add(Dropout(0.2))\n",
    "\n",
    "model.add(LSTM(units = 50, return_sequences = True))\n",
    "model.add(Dropout(0.2))\n",
    "\n",
    "model.add(LSTM(units = 50))\n",
    "model.add(Dropout(0.2))\n",
    "\n",
    "model.add(Dense(units = 1))\n",
    "\n",
    "model.compile(optimizer = 'adam', loss = 'mean_squared_error')\n",
    "\n",
    "model.fit(X_train, y_train, epochs = 100, batch_size = 32)"
   ]
  },
  {
   "cell_type": "code",
   "execution_count": null,
   "id": "eb66d831-e3d8-4a12-bcf2-4e86b2be550c",
   "metadata": {},
   "outputs": [],
   "source": []
  }
 ],
 "metadata": {
  "kernelspec": {
   "display_name": "LHL_ml",
   "language": "python",
   "name": "lhl_ml"
  },
  "language_info": {
   "codemirror_mode": {
    "name": "ipython",
    "version": 3
   },
   "file_extension": ".py",
   "mimetype": "text/x-python",
   "name": "python",
   "nbconvert_exporter": "python",
   "pygments_lexer": "ipython3",
   "version": "3.8.15"
  }
 },
 "nbformat": 4,
 "nbformat_minor": 5
}
